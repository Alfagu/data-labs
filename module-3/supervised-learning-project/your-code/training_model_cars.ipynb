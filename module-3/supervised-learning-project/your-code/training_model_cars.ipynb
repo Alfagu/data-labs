{
 "cells": [
  {
   "cell_type": "code",
   "execution_count": 1,
   "metadata": {},
   "outputs": [],
   "source": [
    "import pandas as pd\n",
    "import numpy as np\n",
    "import swifter"
   ]
  },
  {
   "cell_type": "code",
   "execution_count": 2,
   "metadata": {},
   "outputs": [
    {
     "data": {
      "text/html": [
       "<div>\n",
       "<style scoped>\n",
       "    .dataframe tbody tr th:only-of-type {\n",
       "        vertical-align: middle;\n",
       "    }\n",
       "\n",
       "    .dataframe tbody tr th {\n",
       "        vertical-align: top;\n",
       "    }\n",
       "\n",
       "    .dataframe thead th {\n",
       "        text-align: right;\n",
       "    }\n",
       "</style>\n",
       "<table border=\"1\" class=\"dataframe\">\n",
       "  <thead>\n",
       "    <tr style=\"text-align: right;\">\n",
       "      <th></th>\n",
       "      <th>Id</th>\n",
       "      <th>city</th>\n",
       "      <th>year</th>\n",
       "      <th>manufacturer</th>\n",
       "      <th>make</th>\n",
       "      <th>condition</th>\n",
       "      <th>cylinders</th>\n",
       "      <th>fuel</th>\n",
       "      <th>odometer</th>\n",
       "      <th>title_status</th>\n",
       "      <th>...</th>\n",
       "      <th>paint_color</th>\n",
       "      <th>lat</th>\n",
       "      <th>long</th>\n",
       "      <th>county_fips</th>\n",
       "      <th>county_name</th>\n",
       "      <th>state_fips</th>\n",
       "      <th>state_code</th>\n",
       "      <th>state_name</th>\n",
       "      <th>weather</th>\n",
       "      <th>price</th>\n",
       "    </tr>\n",
       "  </thead>\n",
       "  <tbody>\n",
       "    <tr>\n",
       "      <td>0</td>\n",
       "      <td>559327</td>\n",
       "      <td>baltimore</td>\n",
       "      <td>2006.0</td>\n",
       "      <td>NaN</td>\n",
       "      <td>Scion tc</td>\n",
       "      <td>excellent</td>\n",
       "      <td>4 cylinders</td>\n",
       "      <td>gas</td>\n",
       "      <td>190000.0</td>\n",
       "      <td>clean</td>\n",
       "      <td>...</td>\n",
       "      <td>blue</td>\n",
       "      <td>39.287000</td>\n",
       "      <td>-76.647600</td>\n",
       "      <td>24510.0</td>\n",
       "      <td>Baltimore City</td>\n",
       "      <td>24.0</td>\n",
       "      <td>MD</td>\n",
       "      <td>Maryland</td>\n",
       "      <td>56.0</td>\n",
       "      <td>3200</td>\n",
       "    </tr>\n",
       "    <tr>\n",
       "      <td>1</td>\n",
       "      <td>1429566</td>\n",
       "      <td>carbondale</td>\n",
       "      <td>2018.0</td>\n",
       "      <td>dodge</td>\n",
       "      <td>charger sxt</td>\n",
       "      <td>NaN</td>\n",
       "      <td>NaN</td>\n",
       "      <td>gas</td>\n",
       "      <td>NaN</td>\n",
       "      <td>clean</td>\n",
       "      <td>...</td>\n",
       "      <td>NaN</td>\n",
       "      <td>37.720000</td>\n",
       "      <td>-89.215800</td>\n",
       "      <td>17077.0</td>\n",
       "      <td>Jackson</td>\n",
       "      <td>17.0</td>\n",
       "      <td>IL</td>\n",
       "      <td>Illinois</td>\n",
       "      <td>48.0</td>\n",
       "      <td>30620</td>\n",
       "    </tr>\n",
       "    <tr>\n",
       "      <td>2</td>\n",
       "      <td>931606</td>\n",
       "      <td>thumb</td>\n",
       "      <td>1997.0</td>\n",
       "      <td>ford</td>\n",
       "      <td>f 250 2 wheel dr pickup</td>\n",
       "      <td>fair</td>\n",
       "      <td>NaN</td>\n",
       "      <td>gas</td>\n",
       "      <td>NaN</td>\n",
       "      <td>clean</td>\n",
       "      <td>...</td>\n",
       "      <td>white</td>\n",
       "      <td>43.483300</td>\n",
       "      <td>-83.383500</td>\n",
       "      <td>26157.0</td>\n",
       "      <td>Tuscola</td>\n",
       "      <td>26.0</td>\n",
       "      <td>MI</td>\n",
       "      <td>Michigan</td>\n",
       "      <td>45.0</td>\n",
       "      <td>1800</td>\n",
       "    </tr>\n",
       "    <tr>\n",
       "      <td>3</td>\n",
       "      <td>1265412</td>\n",
       "      <td>laredo</td>\n",
       "      <td>2003.0</td>\n",
       "      <td>ram</td>\n",
       "      <td>NaN</td>\n",
       "      <td>NaN</td>\n",
       "      <td>8 cylinders</td>\n",
       "      <td>gas</td>\n",
       "      <td>NaN</td>\n",
       "      <td>clean</td>\n",
       "      <td>...</td>\n",
       "      <td>NaN</td>\n",
       "      <td>27.850069</td>\n",
       "      <td>-99.668883</td>\n",
       "      <td>48479.0</td>\n",
       "      <td>Webb</td>\n",
       "      <td>48.0</td>\n",
       "      <td>TX</td>\n",
       "      <td>Texas</td>\n",
       "      <td>67.0</td>\n",
       "      <td>4500</td>\n",
       "    </tr>\n",
       "    <tr>\n",
       "      <td>4</td>\n",
       "      <td>1133731</td>\n",
       "      <td>ocala</td>\n",
       "      <td>2000.0</td>\n",
       "      <td>dodge</td>\n",
       "      <td>1500</td>\n",
       "      <td>NaN</td>\n",
       "      <td>NaN</td>\n",
       "      <td>gas</td>\n",
       "      <td>NaN</td>\n",
       "      <td>clean</td>\n",
       "      <td>...</td>\n",
       "      <td>NaN</td>\n",
       "      <td>29.165000</td>\n",
       "      <td>-81.539900</td>\n",
       "      <td>12069.0</td>\n",
       "      <td>Lake</td>\n",
       "      <td>12.0</td>\n",
       "      <td>FL</td>\n",
       "      <td>Florida</td>\n",
       "      <td>65.0</td>\n",
       "      <td>1400</td>\n",
       "    </tr>\n",
       "  </tbody>\n",
       "</table>\n",
       "<p>5 rows × 24 columns</p>\n",
       "</div>"
      ],
      "text/plain": [
       "        Id        city    year manufacturer                     make  \\\n",
       "0   559327   baltimore  2006.0          NaN                 Scion tc   \n",
       "1  1429566  carbondale  2018.0        dodge              charger sxt   \n",
       "2   931606       thumb  1997.0         ford  f 250 2 wheel dr pickup   \n",
       "3  1265412      laredo  2003.0          ram                      NaN   \n",
       "4  1133731       ocala  2000.0        dodge                     1500   \n",
       "\n",
       "   condition    cylinders fuel  odometer title_status  ... paint_color  \\\n",
       "0  excellent  4 cylinders  gas  190000.0        clean  ...        blue   \n",
       "1        NaN          NaN  gas       NaN        clean  ...         NaN   \n",
       "2       fair          NaN  gas       NaN        clean  ...       white   \n",
       "3        NaN  8 cylinders  gas       NaN        clean  ...         NaN   \n",
       "4        NaN          NaN  gas       NaN        clean  ...         NaN   \n",
       "\n",
       "         lat       long county_fips     county_name  state_fips  state_code  \\\n",
       "0  39.287000 -76.647600     24510.0  Baltimore City        24.0          MD   \n",
       "1  37.720000 -89.215800     17077.0         Jackson        17.0          IL   \n",
       "2  43.483300 -83.383500     26157.0         Tuscola        26.0          MI   \n",
       "3  27.850069 -99.668883     48479.0            Webb        48.0          TX   \n",
       "4  29.165000 -81.539900     12069.0            Lake        12.0          FL   \n",
       "\n",
       "   state_name weather  price  \n",
       "0    Maryland    56.0   3200  \n",
       "1    Illinois    48.0  30620  \n",
       "2    Michigan    45.0   1800  \n",
       "3       Texas    67.0   4500  \n",
       "4     Florida    65.0   1400  \n",
       "\n",
       "[5 rows x 24 columns]"
      ]
     },
     "execution_count": 2,
     "metadata": {},
     "output_type": "execute_result"
    }
   ],
   "source": [
    "cars = pd.read_csv(\"cars_train.csv\")\n",
    "cars.head()\n",
    "\n"
   ]
  },
  {
   "cell_type": "code",
   "execution_count": 3,
   "metadata": {},
   "outputs": [
    {
     "data": {
      "text/plain": [
       "Id                int64\n",
       "city             object\n",
       "year            float64\n",
       "manufacturer     object\n",
       "make             object\n",
       "condition        object\n",
       "cylinders        object\n",
       "fuel             object\n",
       "odometer        float64\n",
       "title_status     object\n",
       "transmission     object\n",
       "drive            object\n",
       "size             object\n",
       "type             object\n",
       "paint_color      object\n",
       "lat             float64\n",
       "long            float64\n",
       "county_fips     float64\n",
       "county_name      object\n",
       "state_fips      float64\n",
       "state_code       object\n",
       "state_name       object\n",
       "weather         float64\n",
       "price             int64\n",
       "dtype: object"
      ]
     },
     "execution_count": 3,
     "metadata": {},
     "output_type": "execute_result"
    }
   ],
   "source": [
    "cars.dtypes"
   ]
  },
  {
   "cell_type": "code",
   "execution_count": 4,
   "metadata": {},
   "outputs": [
    {
     "data": {
      "text/plain": [
       "\"cars.drop('manufacturer', axis=1, inplace=True)\\ncars.drop('make', axis=1, inplace=True)\\ncars.drop('condition', axis=1, inplace=True)\\ncars.drop('title_status', axis=1, inplace=True)\\ncars.drop('transmission', axis=1, inplace=True)\\ncars.drop('drive', axis=1, inplace=True)\\ncars.drop('size', axis=1, inplace=True)\\ncars.drop('type', axis=1, inplace=True)\\ncars.drop('paint_color', axis=1, inplace=True)\\ncars.drop('state_code', axis=1, inplace=True)\\ncars.drop('state_name', axis=1, inplace=True)\\ncars.drop('county_name', axis=1, inplace=True)\\ncars.drop('city', axis=1, inplace=True)\\ncars.drop('county_fips', axis=1, inplace=True)\\ncars.drop('state_fips', axis=1, inplace=True)\\ncars.drop('Id', axis=1, inplace=True)\\ncars.drop('odometer', axis=1, inplace=True)\""
      ]
     },
     "execution_count": 4,
     "metadata": {},
     "output_type": "execute_result"
    }
   ],
   "source": [
    "\"\"\"cars.drop('manufacturer', axis=1, inplace=True)\n",
    "cars.drop('make', axis=1, inplace=True)\n",
    "cars.drop('condition', axis=1, inplace=True)\n",
    "cars.drop('title_status', axis=1, inplace=True)\n",
    "cars.drop('transmission', axis=1, inplace=True)\n",
    "cars.drop('drive', axis=1, inplace=True)\n",
    "cars.drop('size', axis=1, inplace=True)\n",
    "cars.drop('type', axis=1, inplace=True)\n",
    "cars.drop('paint_color', axis=1, inplace=True)\n",
    "cars.drop('state_code', axis=1, inplace=True)\n",
    "cars.drop('state_name', axis=1, inplace=True)\n",
    "cars.drop('county_name', axis=1, inplace=True)\n",
    "cars.drop('city', axis=1, inplace=True)\n",
    "cars.drop('county_fips', axis=1, inplace=True)\n",
    "cars.drop('state_fips', axis=1, inplace=True)\n",
    "cars.drop('Id', axis=1, inplace=True)\n",
    "cars.drop('odometer', axis=1, inplace=True)\"\"\""
   ]
  },
  {
   "cell_type": "code",
   "execution_count": 5,
   "metadata": {},
   "outputs": [
    {
     "data": {
      "text/plain": [
       "Id                int64\n",
       "city             object\n",
       "year            float64\n",
       "manufacturer     object\n",
       "make             object\n",
       "condition        object\n",
       "cylinders        object\n",
       "fuel             object\n",
       "odometer        float64\n",
       "title_status     object\n",
       "transmission     object\n",
       "drive            object\n",
       "size             object\n",
       "type             object\n",
       "paint_color      object\n",
       "lat             float64\n",
       "long            float64\n",
       "county_fips     float64\n",
       "county_name      object\n",
       "state_fips      float64\n",
       "state_code       object\n",
       "state_name       object\n",
       "weather         float64\n",
       "price             int64\n",
       "dtype: object"
      ]
     },
     "execution_count": 5,
     "metadata": {},
     "output_type": "execute_result"
    }
   ],
   "source": [
    "cars.dtypes"
   ]
  },
  {
   "cell_type": "code",
   "execution_count": 6,
   "metadata": {},
   "outputs": [
    {
     "data": {
      "image/png": "[encoded data removed]",
      "text/plain": [
       "<Figure size 432x288 with 2 Axes>"
      ]
     },
     "metadata": {
      "needs_background": "light"
     },
     "output_type": "display_data"
    }
   ],
   "source": [
    "import matplotlib.pyplot as plt\n",
    "import seaborn as sns\n",
    "%matplotlib inline\n",
    "\n",
    "corr = cars.corr()\n",
    "sns.heatmap(corr);"
   ]
  },
  {
   "cell_type": "code",
   "execution_count": 7,
   "metadata": {},
   "outputs": [
    {
     "data": {
      "text/plain": [
       "array(['4 cylinders', nan, '8 cylinders', '6 cylinders', 'other',\n",
       "       '3 cylinders', '5 cylinders', '10 cylinders', '12 cylinders'],\n",
       "      dtype=object)"
      ]
     },
     "execution_count": 7,
     "metadata": {},
     "output_type": "execute_result"
    }
   ],
   "source": [
    "cars.cylinders.unique()"
   ]
  },
  {
   "cell_type": "code",
   "execution_count": 8,
   "metadata": {},
   "outputs": [
    {
     "data": {
      "text/html": [
       "<div>\n",
       "<style scoped>\n",
       "    .dataframe tbody tr th:only-of-type {\n",
       "        vertical-align: middle;\n",
       "    }\n",
       "\n",
       "    .dataframe tbody tr th {\n",
       "        vertical-align: top;\n",
       "    }\n",
       "\n",
       "    .dataframe thead th {\n",
       "        text-align: right;\n",
       "    }\n",
       "</style>\n",
       "<table border=\"1\" class=\"dataframe\">\n",
       "  <thead>\n",
       "    <tr style=\"text-align: right;\">\n",
       "      <th></th>\n",
       "      <th>Id</th>\n",
       "      <th>city</th>\n",
       "      <th>year</th>\n",
       "      <th>manufacturer</th>\n",
       "      <th>make</th>\n",
       "      <th>condition</th>\n",
       "      <th>cylinders</th>\n",
       "      <th>fuel</th>\n",
       "      <th>odometer</th>\n",
       "      <th>title_status</th>\n",
       "      <th>...</th>\n",
       "      <th>paint_color</th>\n",
       "      <th>lat</th>\n",
       "      <th>long</th>\n",
       "      <th>county_fips</th>\n",
       "      <th>county_name</th>\n",
       "      <th>state_fips</th>\n",
       "      <th>state_code</th>\n",
       "      <th>state_name</th>\n",
       "      <th>weather</th>\n",
       "      <th>price</th>\n",
       "    </tr>\n",
       "  </thead>\n",
       "  <tbody>\n",
       "    <tr>\n",
       "      <td>0</td>\n",
       "      <td>559327</td>\n",
       "      <td>baltimore</td>\n",
       "      <td>2006.0</td>\n",
       "      <td>NaN</td>\n",
       "      <td>Scion tc</td>\n",
       "      <td>4.0</td>\n",
       "      <td>4.0</td>\n",
       "      <td>1.0</td>\n",
       "      <td>190000.0</td>\n",
       "      <td>clean</td>\n",
       "      <td>...</td>\n",
       "      <td>blue</td>\n",
       "      <td>39.287000</td>\n",
       "      <td>-76.647600</td>\n",
       "      <td>24510.0</td>\n",
       "      <td>Baltimore City</td>\n",
       "      <td>24.0</td>\n",
       "      <td>MD</td>\n",
       "      <td>Maryland</td>\n",
       "      <td>56.0</td>\n",
       "      <td>3200</td>\n",
       "    </tr>\n",
       "    <tr>\n",
       "      <td>1</td>\n",
       "      <td>1429566</td>\n",
       "      <td>carbondale</td>\n",
       "      <td>2018.0</td>\n",
       "      <td>dodge</td>\n",
       "      <td>charger sxt</td>\n",
       "      <td>NaN</td>\n",
       "      <td>NaN</td>\n",
       "      <td>1.0</td>\n",
       "      <td>NaN</td>\n",
       "      <td>clean</td>\n",
       "      <td>...</td>\n",
       "      <td>NaN</td>\n",
       "      <td>37.720000</td>\n",
       "      <td>-89.215800</td>\n",
       "      <td>17077.0</td>\n",
       "      <td>Jackson</td>\n",
       "      <td>17.0</td>\n",
       "      <td>IL</td>\n",
       "      <td>Illinois</td>\n",
       "      <td>48.0</td>\n",
       "      <td>30620</td>\n",
       "    </tr>\n",
       "    <tr>\n",
       "      <td>2</td>\n",
       "      <td>931606</td>\n",
       "      <td>thumb</td>\n",
       "      <td>1997.0</td>\n",
       "      <td>ford</td>\n",
       "      <td>f 250 2 wheel dr pickup</td>\n",
       "      <td>1.0</td>\n",
       "      <td>NaN</td>\n",
       "      <td>1.0</td>\n",
       "      <td>NaN</td>\n",
       "      <td>clean</td>\n",
       "      <td>...</td>\n",
       "      <td>white</td>\n",
       "      <td>43.483300</td>\n",
       "      <td>-83.383500</td>\n",
       "      <td>26157.0</td>\n",
       "      <td>Tuscola</td>\n",
       "      <td>26.0</td>\n",
       "      <td>MI</td>\n",
       "      <td>Michigan</td>\n",
       "      <td>45.0</td>\n",
       "      <td>1800</td>\n",
       "    </tr>\n",
       "    <tr>\n",
       "      <td>3</td>\n",
       "      <td>1265412</td>\n",
       "      <td>laredo</td>\n",
       "      <td>2003.0</td>\n",
       "      <td>ram</td>\n",
       "      <td>NaN</td>\n",
       "      <td>NaN</td>\n",
       "      <td>NaN</td>\n",
       "      <td>1.0</td>\n",
       "      <td>NaN</td>\n",
       "      <td>clean</td>\n",
       "      <td>...</td>\n",
       "      <td>NaN</td>\n",
       "      <td>27.850069</td>\n",
       "      <td>-99.668883</td>\n",
       "      <td>48479.0</td>\n",
       "      <td>Webb</td>\n",
       "      <td>48.0</td>\n",
       "      <td>TX</td>\n",
       "      <td>Texas</td>\n",
       "      <td>67.0</td>\n",
       "      <td>4500</td>\n",
       "    </tr>\n",
       "    <tr>\n",
       "      <td>4</td>\n",
       "      <td>1133731</td>\n",
       "      <td>ocala</td>\n",
       "      <td>2000.0</td>\n",
       "      <td>dodge</td>\n",
       "      <td>1500</td>\n",
       "      <td>NaN</td>\n",
       "      <td>NaN</td>\n",
       "      <td>1.0</td>\n",
       "      <td>NaN</td>\n",
       "      <td>clean</td>\n",
       "      <td>...</td>\n",
       "      <td>NaN</td>\n",
       "      <td>29.165000</td>\n",
       "      <td>-81.539900</td>\n",
       "      <td>12069.0</td>\n",
       "      <td>Lake</td>\n",
       "      <td>12.0</td>\n",
       "      <td>FL</td>\n",
       "      <td>Florida</td>\n",
       "      <td>65.0</td>\n",
       "      <td>1400</td>\n",
       "    </tr>\n",
       "  </tbody>\n",
       "</table>\n",
       "<p>5 rows × 24 columns</p>\n",
       "</div>"
      ],
      "text/plain": [
       "        Id        city    year manufacturer                     make  \\\n",
       "0   559327   baltimore  2006.0          NaN                 Scion tc   \n",
       "1  1429566  carbondale  2018.0        dodge              charger sxt   \n",
       "2   931606       thumb  1997.0         ford  f 250 2 wheel dr pickup   \n",
       "3  1265412      laredo  2003.0          ram                      NaN   \n",
       "4  1133731       ocala  2000.0        dodge                     1500   \n",
       "\n",
       "   condition  cylinders  fuel  odometer title_status  ... paint_color  \\\n",
       "0        4.0        4.0   1.0  190000.0        clean  ...        blue   \n",
       "1        NaN        NaN   1.0       NaN        clean  ...         NaN   \n",
       "2        1.0        NaN   1.0       NaN        clean  ...       white   \n",
       "3        NaN        NaN   1.0       NaN        clean  ...         NaN   \n",
       "4        NaN        NaN   1.0       NaN        clean  ...         NaN   \n",
       "\n",
       "         lat       long county_fips     county_name  state_fips  state_code  \\\n",
       "0  39.287000 -76.647600     24510.0  Baltimore City        24.0          MD   \n",
       "1  37.720000 -89.215800     17077.0         Jackson        17.0          IL   \n",
       "2  43.483300 -83.383500     26157.0         Tuscola        26.0          MI   \n",
       "3  27.850069 -99.668883     48479.0            Webb        48.0          TX   \n",
       "4  29.165000 -81.539900     12069.0            Lake        12.0          FL   \n",
       "\n",
       "   state_name weather  price  \n",
       "0    Maryland    56.0   3200  \n",
       "1    Illinois    48.0  30620  \n",
       "2    Michigan    45.0   1800  \n",
       "3       Texas    67.0   4500  \n",
       "4     Florida    65.0   1400  \n",
       "\n",
       "[5 rows x 24 columns]"
      ]
     },
     "execution_count": 8,
     "metadata": {},
     "output_type": "execute_result"
    }
   ],
   "source": [
    "cars['cylinders'] = cars['cylinders'].map({'other': 0, \n",
    "                                           '3 cylinders': 3, \n",
    "                                           '4 cylinders': 4, \n",
    "                                           '5 cylinders': 5, \n",
    "                                           '6 cylinders': 6, \n",
    "                                           '8 cylinder': 8, \n",
    "                                           '10 cylinders': 10, \n",
    "                                           '12 cylinders': 12})\n",
    "cars['fuel'] = cars['fuel'].map({'other': 0, \n",
    "                                 'gas': 1, \n",
    "                                 'diesel': 2, \n",
    "                                 'hybrid': 3,\n",
    "                                 'electric': 4})\n",
    "cars['condition'] = cars['condition'].map({'salvage': 0, \n",
    "                                           'fair': 1, \n",
    "                                           'good': 2, \n",
    "                                           'like new': 3, \n",
    "                                           'excellent': 4, \n",
    "                                           'new': 5})\n",
    "\n",
    "cars.head()"
   ]
  },
  {
   "cell_type": "code",
   "execution_count": 9,
   "metadata": {},
   "outputs": [
    {
     "data": {
      "image/png": "[encoded data removed]",
      "text/plain": [
       "<Figure size 432x288 with 2 Axes>"
      ]
     },
     "metadata": {
      "needs_background": "light"
     },
     "output_type": "display_data"
    }
   ],
   "source": [
    "corr = cars.corr()\n",
    "sns.heatmap(corr);"
   ]
  },
  {
   "cell_type": "code",
   "execution_count": 10,
   "metadata": {},
   "outputs": [
    {
     "data": {
      "text/html": [
       "<div>\n",
       "<style scoped>\n",
       "    .dataframe tbody tr th:only-of-type {\n",
       "        vertical-align: middle;\n",
       "    }\n",
       "\n",
       "    .dataframe tbody tr th {\n",
       "        vertical-align: top;\n",
       "    }\n",
       "\n",
       "    .dataframe thead th {\n",
       "        text-align: right;\n",
       "    }\n",
       "</style>\n",
       "<table border=\"1\" class=\"dataframe\">\n",
       "  <thead>\n",
       "    <tr style=\"text-align: right;\">\n",
       "      <th></th>\n",
       "      <th>Id</th>\n",
       "      <th>city</th>\n",
       "      <th>year</th>\n",
       "      <th>manufacturer</th>\n",
       "      <th>make</th>\n",
       "      <th>condition</th>\n",
       "      <th>cylinders</th>\n",
       "      <th>fuel</th>\n",
       "      <th>odometer</th>\n",
       "      <th>title_status</th>\n",
       "      <th>...</th>\n",
       "      <th>paint_color</th>\n",
       "      <th>lat</th>\n",
       "      <th>long</th>\n",
       "      <th>county_fips</th>\n",
       "      <th>county_name</th>\n",
       "      <th>state_fips</th>\n",
       "      <th>state_code</th>\n",
       "      <th>state_name</th>\n",
       "      <th>weather</th>\n",
       "      <th>price</th>\n",
       "    </tr>\n",
       "  </thead>\n",
       "  <tbody>\n",
       "    <tr>\n",
       "      <td>21</td>\n",
       "      <td>646472</td>\n",
       "      <td>redding</td>\n",
       "      <td>1997.0</td>\n",
       "      <td>chevrolet</td>\n",
       "      <td>blazer</td>\n",
       "      <td>2.0</td>\n",
       "      <td>6.0</td>\n",
       "      <td>1.0</td>\n",
       "      <td>180000.0</td>\n",
       "      <td>lien</td>\n",
       "      <td>...</td>\n",
       "      <td>white</td>\n",
       "      <td>40.447664</td>\n",
       "      <td>-122.298730</td>\n",
       "      <td>6089.0</td>\n",
       "      <td>Shasta</td>\n",
       "      <td>6.0</td>\n",
       "      <td>CA</td>\n",
       "      <td>California</td>\n",
       "      <td>59.0</td>\n",
       "      <td>1000</td>\n",
       "    </tr>\n",
       "    <tr>\n",
       "      <td>23</td>\n",
       "      <td>1429295</td>\n",
       "      <td>carbondale</td>\n",
       "      <td>2014.0</td>\n",
       "      <td>chevrolet</td>\n",
       "      <td>cruze</td>\n",
       "      <td>4.0</td>\n",
       "      <td>4.0</td>\n",
       "      <td>1.0</td>\n",
       "      <td>66344.0</td>\n",
       "      <td>clean</td>\n",
       "      <td>...</td>\n",
       "      <td>red</td>\n",
       "      <td>38.584848</td>\n",
       "      <td>-89.985587</td>\n",
       "      <td>17163.0</td>\n",
       "      <td>St. Clair</td>\n",
       "      <td>17.0</td>\n",
       "      <td>IL</td>\n",
       "      <td>Illinois</td>\n",
       "      <td>48.0</td>\n",
       "      <td>211</td>\n",
       "    </tr>\n",
       "    <tr>\n",
       "      <td>32</td>\n",
       "      <td>504420</td>\n",
       "      <td>maine</td>\n",
       "      <td>2002.0</td>\n",
       "      <td>nissan</td>\n",
       "      <td>xterra</td>\n",
       "      <td>1.0</td>\n",
       "      <td>6.0</td>\n",
       "      <td>1.0</td>\n",
       "      <td>150000.0</td>\n",
       "      <td>missing</td>\n",
       "      <td>...</td>\n",
       "      <td>red</td>\n",
       "      <td>43.695192</td>\n",
       "      <td>-70.351646</td>\n",
       "      <td>23005.0</td>\n",
       "      <td>Cumberland</td>\n",
       "      <td>23.0</td>\n",
       "      <td>ME</td>\n",
       "      <td>Maine</td>\n",
       "      <td>44.0</td>\n",
       "      <td>500</td>\n",
       "    </tr>\n",
       "    <tr>\n",
       "      <td>36</td>\n",
       "      <td>258558</td>\n",
       "      <td>cleveland</td>\n",
       "      <td>2014.0</td>\n",
       "      <td>cadillac</td>\n",
       "      <td>elr</td>\n",
       "      <td>2.0</td>\n",
       "      <td>4.0</td>\n",
       "      <td>3.0</td>\n",
       "      <td>55800.0</td>\n",
       "      <td>clean</td>\n",
       "      <td>...</td>\n",
       "      <td>silver</td>\n",
       "      <td>41.298474</td>\n",
       "      <td>-81.459900</td>\n",
       "      <td>39153.0</td>\n",
       "      <td>Summit</td>\n",
       "      <td>39.0</td>\n",
       "      <td>OH</td>\n",
       "      <td>Ohio</td>\n",
       "      <td>49.0</td>\n",
       "      <td>27950</td>\n",
       "    </tr>\n",
       "    <tr>\n",
       "      <td>46</td>\n",
       "      <td>413465</td>\n",
       "      <td>fargo</td>\n",
       "      <td>2005.0</td>\n",
       "      <td>buick</td>\n",
       "      <td>teraza</td>\n",
       "      <td>2.0</td>\n",
       "      <td>6.0</td>\n",
       "      <td>1.0</td>\n",
       "      <td>208.0</td>\n",
       "      <td>clean</td>\n",
       "      <td>...</td>\n",
       "      <td>brown</td>\n",
       "      <td>46.883894</td>\n",
       "      <td>-96.882838</td>\n",
       "      <td>38017.0</td>\n",
       "      <td>Cass</td>\n",
       "      <td>38.0</td>\n",
       "      <td>ND</td>\n",
       "      <td>North Dakota</td>\n",
       "      <td>38.0</td>\n",
       "      <td>1975</td>\n",
       "    </tr>\n",
       "  </tbody>\n",
       "</table>\n",
       "<p>5 rows × 24 columns</p>\n",
       "</div>"
      ],
      "text/plain": [
       "         Id        city    year manufacturer    make  condition  cylinders  \\\n",
       "21   646472     redding  1997.0    chevrolet  blazer        2.0        6.0   \n",
       "23  1429295  carbondale  2014.0    chevrolet   cruze        4.0        4.0   \n",
       "32   504420       maine  2002.0       nissan  xterra        1.0        6.0   \n",
       "36   258558   cleveland  2014.0     cadillac     elr        2.0        4.0   \n",
       "46   413465       fargo  2005.0        buick  teraza        2.0        6.0   \n",
       "\n",
       "    fuel  odometer title_status  ... paint_color        lat        long  \\\n",
       "21   1.0  180000.0         lien  ...       white  40.447664 -122.298730   \n",
       "23   1.0   66344.0        clean  ...         red  38.584848  -89.985587   \n",
       "32   1.0  150000.0      missing  ...         red  43.695192  -70.351646   \n",
       "36   3.0   55800.0        clean  ...      silver  41.298474  -81.459900   \n",
       "46   1.0     208.0        clean  ...       brown  46.883894  -96.882838   \n",
       "\n",
       "   county_fips county_name  state_fips  state_code    state_name weather  \\\n",
       "21      6089.0      Shasta         6.0          CA    California    59.0   \n",
       "23     17163.0   St. Clair        17.0          IL      Illinois    48.0   \n",
       "32     23005.0  Cumberland        23.0          ME         Maine    44.0   \n",
       "36     39153.0      Summit        39.0          OH          Ohio    49.0   \n",
       "46     38017.0        Cass        38.0          ND  North Dakota    38.0   \n",
       "\n",
       "    price  \n",
       "21   1000  \n",
       "23    211  \n",
       "32    500  \n",
       "36  27950  \n",
       "46   1975  \n",
       "\n",
       "[5 rows x 24 columns]"
      ]
     },
     "execution_count": 10,
     "metadata": {},
     "output_type": "execute_result"
    }
   ],
   "source": [
    "cars = cars.dropna()\n",
    "\n",
    "cars.head()"
   ]
  },
  {
   "cell_type": "code",
   "execution_count": 11,
   "metadata": {},
   "outputs": [
    {
     "data": {
      "text/plain": [
       "(42296, 6)"
      ]
     },
     "metadata": {},
     "output_type": "display_data"
    },
    {
     "data": {
      "text/plain": [
       "(18128, 6)"
      ]
     },
     "metadata": {},
     "output_type": "display_data"
    },
    {
     "data": {
      "text/plain": [
       "(42296, 1)"
      ]
     },
     "metadata": {},
     "output_type": "display_data"
    },
    {
     "data": {
      "text/plain": [
       "(18128, 1)"
      ]
     },
     "metadata": {},
     "output_type": "display_data"
    }
   ],
   "source": [
    "from sklearn.model_selection import train_test_split\n",
    "\n",
    "X = cars[['year', 'lat', 'long', 'weather', 'cylinders', 'fuel']]\n",
    "y = cars[['price']]\n",
    "\n",
    "X_train, X_test, y_train, y_test = train_test_split(X, y, test_size=0.3, random_state = 42)\n",
    "\n",
    "display(X_train.shape, X_test.shape, y_train.shape, y_test.shape)"
   ]
  },
  {
   "cell_type": "code",
   "execution_count": 12,
   "metadata": {},
   "outputs": [
    {
     "name": "stderr",
     "output_type": "stream",
     "text": [
      "/usr/local/lib/python3.7/site-packages/sklearn/ensemble/forest.py:245: FutureWarning: The default value of n_estimators will change from 10 in version 0.20 to 100 in 0.22.\n",
      "  \"10 in version 0.20 to 100 in 0.22.\", FutureWarning)\n",
      "/usr/local/lib/python3.7/site-packages/ipykernel_launcher.py:6: DataConversionWarning: A column-vector y was passed when a 1d array was expected. Please change the shape of y to (n_samples,), for example using ravel().\n",
      "  \n"
     ]
    },
    {
     "data": {
      "text/plain": [
       "-0.005062288925481884"
      ]
     },
     "execution_count": 12,
     "metadata": {},
     "output_type": "execute_result"
    }
   ],
   "source": [
    "from sklearn.ensemble import RandomForestClassifier\n",
    "from sklearn.ensemble import RandomForestRegressor\n",
    "\n",
    "#clf = RandomForestClassifier()\n",
    "clf = RandomForestRegressor()\n",
    "clf.fit(X_train, y_train)\n",
    "\n",
    "y_pred = clf.predict(X_test)\n",
    "\n",
    "# print('accuracy %s' % accuracy(y_pred, y_test))\n",
    "# print(classification_report(y_test, y_pred))\n",
    "\n",
    "from sklearn.metrics import r2_score\n",
    "\n",
    "r2_score(y_test, y_pred)"
   ]
  },
  {
   "cell_type": "code",
   "execution_count": 13,
   "metadata": {},
   "outputs": [
    {
     "data": {
      "text/plain": [
       "4.270985908128022e-05"
      ]
     },
     "execution_count": 13,
     "metadata": {},
     "output_type": "execute_result"
    }
   ],
   "source": [
    "from sklearn.linear_model import LinearRegression\n",
    "\n",
    "reg = LinearRegression().fit(X, y)\n",
    "reg.score(X, y)"
   ]
  },
  {
   "cell_type": "code",
   "execution_count": 14,
   "metadata": {},
   "outputs": [
    {
     "name": "stdout",
     "output_type": "stream",
     "text": [
      "Coefficients: \n",
      " [[-4536.39572693  2650.57002447  2030.51854072 -2792.44185874\n",
      "  10952.42235695 -2278.95741912]]\n",
      "Mean Squared error: 53822420150168.45\n",
      "Variance score: -0\n"
     ]
    }
   ],
   "source": [
    "import matplotlib.pyplot as plt\n",
    "from sklearn import linear_model\n",
    "from sklearn.metrics import mean_squared_error, r2_score\n",
    "\n",
    "regr = linear_model.LinearRegression()\n",
    "\n",
    "regr.fit(X_train, y_train)\n",
    "\n",
    "y_pred = regr.predict(X_test)\n",
    "\n",
    "print('Coefficients: \\n', regr.coef_)\n",
    "\n",
    "print(\"Mean Squared error: %.2f\"\n",
    "     % mean_squared_error(y_test, y_pred))\n",
    "\n",
    "print('Variance score: %2.f' % r2_score(y_test, y_pred))"
   ]
  },
  {
   "cell_type": "code",
   "execution_count": 15,
   "metadata": {},
   "outputs": [
    {
     "name": "stdout",
     "output_type": "stream",
     "text": [
      "45525.320915530254\n"
     ]
    }
   ],
   "source": [
    "mean_price = cars.price.mean()\n",
    "print(mean_price)"
   ]
  },
  {
   "cell_type": "code",
   "execution_count": 16,
   "metadata": {},
   "outputs": [
    {
     "data": {
      "text/html": [
       "<div>\n",
       "<style scoped>\n",
       "    .dataframe tbody tr th:only-of-type {\n",
       "        vertical-align: middle;\n",
       "    }\n",
       "\n",
       "    .dataframe tbody tr th {\n",
       "        vertical-align: top;\n",
       "    }\n",
       "\n",
       "    .dataframe thead th {\n",
       "        text-align: right;\n",
       "    }\n",
       "</style>\n",
       "<table border=\"1\" class=\"dataframe\">\n",
       "  <thead>\n",
       "    <tr style=\"text-align: right;\">\n",
       "      <th></th>\n",
       "      <th>Id</th>\n",
       "      <th>price</th>\n",
       "    </tr>\n",
       "  </thead>\n",
       "  <tbody>\n",
       "    <tr>\n",
       "      <td>0</td>\n",
       "      <td>974298</td>\n",
       "      <td>13631</td>\n",
       "    </tr>\n",
       "    <tr>\n",
       "      <td>1</td>\n",
       "      <td>1051884</td>\n",
       "      <td>26256</td>\n",
       "    </tr>\n",
       "    <tr>\n",
       "      <td>2</td>\n",
       "      <td>684464</td>\n",
       "      <td>27197</td>\n",
       "    </tr>\n",
       "    <tr>\n",
       "      <td>3</td>\n",
       "      <td>1255387</td>\n",
       "      <td>12112</td>\n",
       "    </tr>\n",
       "    <tr>\n",
       "      <td>4</td>\n",
       "      <td>1195520</td>\n",
       "      <td>33879</td>\n",
       "    </tr>\n",
       "  </tbody>\n",
       "</table>\n",
       "</div>"
      ],
      "text/plain": [
       "        Id  price\n",
       "0   974298  13631\n",
       "1  1051884  26256\n",
       "2   684464  27197\n",
       "3  1255387  12112\n",
       "4  1195520  33879"
      ]
     },
     "execution_count": 16,
     "metadata": {},
     "output_type": "execute_result"
    }
   ],
   "source": [
    "sub_mean = pd.read_csv('./cars_sample_submission.csv')\n",
    "\n",
    "sub_mean.head()"
   ]
  },
  {
   "cell_type": "code",
   "execution_count": 17,
   "metadata": {},
   "outputs": [
    {
     "data": {
      "text/html": [
       "<div>\n",
       "<style scoped>\n",
       "    .dataframe tbody tr th:only-of-type {\n",
       "        vertical-align: middle;\n",
       "    }\n",
       "\n",
       "    .dataframe tbody tr th {\n",
       "        vertical-align: top;\n",
       "    }\n",
       "\n",
       "    .dataframe thead th {\n",
       "        text-align: right;\n",
       "    }\n",
       "</style>\n",
       "<table border=\"1\" class=\"dataframe\">\n",
       "  <thead>\n",
       "    <tr style=\"text-align: right;\">\n",
       "      <th></th>\n",
       "      <th>Id</th>\n",
       "      <th>price</th>\n",
       "    </tr>\n",
       "  </thead>\n",
       "  <tbody>\n",
       "    <tr>\n",
       "      <td>0</td>\n",
       "      <td>974298</td>\n",
       "      <td>45525.320916</td>\n",
       "    </tr>\n",
       "    <tr>\n",
       "      <td>1</td>\n",
       "      <td>1051884</td>\n",
       "      <td>45525.320916</td>\n",
       "    </tr>\n",
       "    <tr>\n",
       "      <td>2</td>\n",
       "      <td>684464</td>\n",
       "      <td>45525.320916</td>\n",
       "    </tr>\n",
       "    <tr>\n",
       "      <td>3</td>\n",
       "      <td>1255387</td>\n",
       "      <td>45525.320916</td>\n",
       "    </tr>\n",
       "    <tr>\n",
       "      <td>4</td>\n",
       "      <td>1195520</td>\n",
       "      <td>45525.320916</td>\n",
       "    </tr>\n",
       "  </tbody>\n",
       "</table>\n",
       "</div>"
      ],
      "text/plain": [
       "        Id         price\n",
       "0   974298  45525.320916\n",
       "1  1051884  45525.320916\n",
       "2   684464  45525.320916\n",
       "3  1255387  45525.320916\n",
       "4  1195520  45525.320916"
      ]
     },
     "execution_count": 17,
     "metadata": {},
     "output_type": "execute_result"
    }
   ],
   "source": [
    "sub_mean['price'] = mean_price\n",
    "\n",
    "sub_mean.head()"
   ]
  },
  {
   "cell_type": "code",
   "execution_count": 20,
   "metadata": {},
   "outputs": [
    {
     "data": {
      "text/plain": [
       "Id         int64\n",
       "price    float64\n",
       "dtype: object"
      ]
     },
     "execution_count": 20,
     "metadata": {},
     "output_type": "execute_result"
    }
   ],
   "source": [
    "sub_mean_num = sub_mean.apply(lambda x: pd.to_numeric(x), axis=0)\n",
    "\n",
    "sub_mean.dtypes\n",
    "\n"
   ]
  },
  {
   "cell_type": "code",
   "execution_count": 21,
   "metadata": {},
   "outputs": [],
   "source": [
    "sub_mean.to_csv('sub_mean.csv',index=False)\n"
   ]
  },
  {
   "cell_type": "code",
   "execution_count": null,
   "metadata": {},
   "outputs": [],
   "source": []
  }
 ],
 "metadata": {
  "kernelspec": {
   "display_name": "Python 3",
   "language": "python",
   "name": "python3"
  },
  "language_info": {
   "codemirror_mode": {
    "name": "ipython",
    "version": 3
   },
   "file_extension": ".py",
   "mimetype": "text/x-python",
   "name": "python",
   "nbconvert_exporter": "python",
   "pygments_lexer": "ipython3",
   "version": "3.7.4"
  }
 },
 "nbformat": 4,
 "nbformat_minor": 2
}
