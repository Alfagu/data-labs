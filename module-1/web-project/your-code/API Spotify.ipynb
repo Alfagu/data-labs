{
 "cells": [
  {
   "cell_type": "code",
   "execution_count": 50,
   "metadata": {},
   "outputs": [],
   "source": [
    "import sys\n",
    "from spotipy.oauth2 import SpotifyClientCredentials\n",
    "import spotipy\n",
    "import spotipy.util as util\n",
    "import pprint\n",
    "import pandas as pd\n",
    "from dotenv import load_dotenv\n",
    "load_dotenv()\n",
    "import os\n",
    "CLIENT_ID=os.getenv(\"CLIENT_ID\")\n",
    "CLIENT_SECRET=os.getenv(\"CLIENT_SECRET\")\n",
    "    \n",
    "client_credentials_manager = SpotifyClientCredentials(client_id=client_id, client_secret=client_secret)\n",
    "sp = spotipy.Spotify(client_credentials_manager=client_credentials_manager)\n",
    "\n",
    "# Now we can look for anything we want on the APP"
   ]
  },
  {
   "cell_type": "code",
   "execution_count": 51,
   "metadata": {},
   "outputs": [
    {
     "data": {
      "text/plain": [
       "[{'external_urls': {'spotify': 'https://open.spotify.com/artist/2uFUBdaVGtyMqckSeCl0Qj'},\n",
       "  'href': 'https://api.spotify.com/v1/artists/2uFUBdaVGtyMqckSeCl0Qj',\n",
       "  'id': '2uFUBdaVGtyMqckSeCl0Qj',\n",
       "  'name': 'Ludovico Einaudi',\n",
       "  'type': 'artist',\n",
       "  'uri': 'spotify:artist:2uFUBdaVGtyMqckSeCl0Qj'}]"
      ]
     },
     "execution_count": 51,
     "metadata": {},
     "output_type": "execute_result"
    }
   ],
   "source": [
    "# In this case we are going to search for the albums from an specific artist\n",
    "# First we search the artist into spotify\n",
    "name = \"Ludovico Einaudi\"\n",
    "\n",
    "result = sp.search(name)  #search query\n",
    "result['tracks']['items'][0]['artists']"
   ]
  },
  {
   "cell_type": "code",
   "execution_count": 52,
   "metadata": {},
   "outputs": [
    {
     "data": {
      "text/plain": [
       "['spotify:album:14qrn11zrDzT1I5vS1O4tN',\n",
       " 'spotify:album:01u5oRKIW5wVrl2Ydg2EW5',\n",
       " 'spotify:album:4GRrwMMcFXZUGIPX6ltBj5',\n",
       " 'spotify:album:1m4GKm4lVNZdA4dHwcr8of',\n",
       " 'spotify:album:4oMhRri9CHpktiWmTP5gs0',\n",
       " 'spotify:album:37tZkSp1KSIfh9Jt5WF8fY',\n",
       " 'spotify:album:05N5FWRDDTr9SmwVlGBNzT',\n",
       " 'spotify:album:5jzohQ50TA36qTumAG1rEA',\n",
       " 'spotify:album:1lJ0A9ZCqs83Rrp1YIpZgT',\n",
       " 'spotify:album:5UJjk4bnmGsjWmrLaAK3uw',\n",
       " 'spotify:album:2lWPxdBwV7SyyT5HLAW42y',\n",
       " 'spotify:album:5NcC2WQ4sMn8qy2fTqdcWb',\n",
       " 'spotify:album:4kEUAL3ByGouOGJ8muenFg',\n",
       " 'spotify:album:1jTZ8sReLrUn4qCHYBHgKV',\n",
       " 'spotify:album:600RMfikMLbkoZIgS0MqiL',\n",
       " 'spotify:album:3uJ6D2WOPdjwJ0SrsH9EiG',\n",
       " 'spotify:album:62dvhzEC1RtHI7tIpE4EmL',\n",
       " 'spotify:album:6u5VYP6DGkgfHMSlK0kVv7',\n",
       " 'spotify:album:5vvLGd70sOZSZddNnIejFv',\n",
       " 'spotify:album:2mVQza8HBB1IxKufYqaQbY']"
      ]
     },
     "execution_count": 52,
     "metadata": {},
     "output_type": "execute_result"
    }
   ],
   "source": [
    "# We are going to extract the artist uri\n",
    "artist_uri = result['tracks']['items'][0]['artists'][0]['uri']\n",
    "\n",
    "# And we are going to pull all the albums\n",
    "sp_albums = sp.artist_albums(artist_uri, album_type='album')\n",
    "\n",
    "# We store the data in different lists\n",
    "album_names = []\n",
    "album_uris = []\n",
    "for i in range(len(sp_albums['items'])):\n",
    "    album_names.append(sp_albums['items'][i]['name'])\n",
    "    album_uris.append(sp_albums['items'][i]['uri'])\n",
    "    \n",
    "album_names\n",
    "album_uris"
   ]
  },
  {
   "cell_type": "code",
   "execution_count": 53,
   "metadata": {},
   "outputs": [],
   "source": [
    "tracks = sp.album_tracks('spotify:album:14qrn11zrDzT1I5vS1O4tN')\n"
   ]
  },
  {
   "cell_type": "code",
   "execution_count": 54,
   "metadata": {},
   "outputs": [
    {
     "name": "stdout",
     "output_type": "stream",
     "text": [
      "{'album': [], 'track_number': [], 'id': [], 'name': [], 'uri': []}\n"
     ]
    }
   ],
   "source": [
    "# And now we can get deeper into the data and take the songs \n",
    "def album_Songs(uri):\n",
    "    album = 'spotify:album:14qrn11zrDzT1I5vS1O4tN' \n",
    "\n",
    "spotify_albums = {} #Create a dict for each song in each album\n",
    "\n",
    "spotify_albums['album'] = []\n",
    "spotify_albums['track_number'] = []\n",
    "spotify_albums['id'] = []\n",
    "spotify_albums['name'] = []\n",
    "spotify_albums['uri'] = []\n",
    "\n",
    "print(spotify_albums)"
   ]
  },
  {
   "cell_type": "code",
   "execution_count": 55,
   "metadata": {},
   "outputs": [],
   "source": [
    "lista = []\n",
    "for i in album_uris:\n",
    "    tracks = sp.album_tracks(i)\n",
    "    spotify_albums = {}\n",
    "    spotify_albums['album'] = tracks['items'][0]['artists'][0]['name']\n",
    "    spotify_albums['track_number'] = tracks['items'][1]['track_number']\n",
    "    spotify_albums['id'] = []\n",
    "    spotify_albums['name'] = []\n",
    "    spotify_albums['uri'] = []\n",
    "    lista.append(spotify_albums)\n"
   ]
  },
  {
   "cell_type": "code",
   "execution_count": 56,
   "metadata": {},
   "outputs": [
    {
     "name": "stdout",
     "output_type": "stream",
     "text": [
      "{'href': 'https://api.spotify.com/v1/albums/2mVQza8HBB1IxKufYqaQbY/tracks?offset=0&limit=50', 'items': [{'artists': [{'external_urls': {'spotify': 'https://open.spotify.com/artist/2uFUBdaVGtyMqckSeCl0Qj'}, 'href': 'https://api.spotify.com/v1/artists/2uFUBdaVGtyMqckSeCl0Qj', 'id': '2uFUBdaVGtyMqckSeCl0Qj', 'name': 'Ludovico Einaudi', 'type': 'artist', 'uri': 'spotify:artist:2uFUBdaVGtyMqckSeCl0Qj'}], 'available_markets': ['CA'], 'disc_number': 1, 'duration_ms': 466000, 'explicit': False, 'external_urls': {'spotify': 'https://open.spotify.com/track/2QMadAOKvljLw3CgBY6htz'}, 'href': 'https://api.spotify.com/v1/tracks/2QMadAOKvljLw3CgBY6htz', 'id': '2QMadAOKvljLw3CgBY6htz', 'is_local': False, 'name': 'Svanire', 'preview_url': 'https://p.scdn.co/mp3-preview/bb634ec40fabb5709a6706c6367fd6f5979dbc97?cid=df25b8933181454dbd9afa91b8f19324', 'track_number': 1, 'type': 'track', 'uri': 'spotify:track:2QMadAOKvljLw3CgBY6htz'}, {'artists': [{'external_urls': {'spotify': 'https://open.spotify.com/artist/2uFUBdaVGtyMqckSeCl0Qj'}, 'href': 'https://api.spotify.com/v1/artists/2uFUBdaVGtyMqckSeCl0Qj', 'id': '2uFUBdaVGtyMqckSeCl0Qj', 'name': 'Ludovico Einaudi', 'type': 'artist', 'uri': 'spotify:artist:2uFUBdaVGtyMqckSeCl0Qj'}], 'available_markets': ['CA'], 'disc_number': 1, 'duration_ms': 289813, 'explicit': False, 'external_urls': {'spotify': 'https://open.spotify.com/track/6CA42eBGxrLDgNiuuoypKb'}, 'href': 'https://api.spotify.com/v1/tracks/6CA42eBGxrLDgNiuuoypKb', 'id': '6CA42eBGxrLDgNiuuoypKb', 'is_local': False, 'name': 'Uno', 'preview_url': 'https://p.scdn.co/mp3-preview/1f1a70504f8c02011a20e56fbaf5948c15714642?cid=df25b8933181454dbd9afa91b8f19324', 'track_number': 2, 'type': 'track', 'uri': 'spotify:track:6CA42eBGxrLDgNiuuoypKb'}, {'artists': [{'external_urls': {'spotify': 'https://open.spotify.com/artist/2uFUBdaVGtyMqckSeCl0Qj'}, 'href': 'https://api.spotify.com/v1/artists/2uFUBdaVGtyMqckSeCl0Qj', 'id': '2uFUBdaVGtyMqckSeCl0Qj', 'name': 'Ludovico Einaudi', 'type': 'artist', 'uri': 'spotify:artist:2uFUBdaVGtyMqckSeCl0Qj'}], 'available_markets': ['CA'], 'disc_number': 1, 'duration_ms': 434720, 'explicit': False, 'external_urls': {'spotify': 'https://open.spotify.com/track/6g4Ur1tVXapjw1pPbmCZIS'}, 'href': 'https://api.spotify.com/v1/tracks/6g4Ur1tVXapjw1pPbmCZIS', 'id': '6g4Ur1tVXapjw1pPbmCZIS', 'is_local': False, 'name': 'Divenire', 'preview_url': 'https://p.scdn.co/mp3-preview/4f2ca20fc756902a6237bb152854210bd001a1bb?cid=df25b8933181454dbd9afa91b8f19324', 'track_number': 3, 'type': 'track', 'uri': 'spotify:track:6g4Ur1tVXapjw1pPbmCZIS'}, {'artists': [{'external_urls': {'spotify': 'https://open.spotify.com/artist/2uFUBdaVGtyMqckSeCl0Qj'}, 'href': 'https://api.spotify.com/v1/artists/2uFUBdaVGtyMqckSeCl0Qj', 'id': '2uFUBdaVGtyMqckSeCl0Qj', 'name': 'Ludovico Einaudi', 'type': 'artist', 'uri': 'spotify:artist:2uFUBdaVGtyMqckSeCl0Qj'}], 'available_markets': ['CA'], 'disc_number': 1, 'duration_ms': 282773, 'explicit': False, 'external_urls': {'spotify': 'https://open.spotify.com/track/4W2OkMHpRhKi94cQv3Ycm0'}, 'href': 'https://api.spotify.com/v1/tracks/4W2OkMHpRhKi94cQv3Ycm0', 'id': '4W2OkMHpRhKi94cQv3Ycm0', 'is_local': False, 'name': 'Rose', 'preview_url': 'https://p.scdn.co/mp3-preview/b3b50925b31d5847aa7a3b888d9546f6e3551962?cid=df25b8933181454dbd9afa91b8f19324', 'track_number': 4, 'type': 'track', 'uri': 'spotify:track:4W2OkMHpRhKi94cQv3Ycm0'}, {'artists': [{'external_urls': {'spotify': 'https://open.spotify.com/artist/2uFUBdaVGtyMqckSeCl0Qj'}, 'href': 'https://api.spotify.com/v1/artists/2uFUBdaVGtyMqckSeCl0Qj', 'id': '2uFUBdaVGtyMqckSeCl0Qj', 'name': 'Ludovico Einaudi', 'type': 'artist', 'uri': 'spotify:artist:2uFUBdaVGtyMqckSeCl0Qj'}], 'available_markets': ['CA'], 'disc_number': 1, 'duration_ms': 304440, 'explicit': False, 'external_urls': {'spotify': 'https://open.spotify.com/track/7mRnbqQ1kVAi6DMHAIR77b'}, 'href': 'https://api.spotify.com/v1/tracks/7mRnbqQ1kVAi6DMHAIR77b', 'id': '7mRnbqQ1kVAi6DMHAIR77b', 'is_local': False, 'name': 'Ascolta', 'preview_url': 'https://p.scdn.co/mp3-preview/c6b729cda48996ac19ab1c615870758afb08b5e5?cid=df25b8933181454dbd9afa91b8f19324', 'track_number': 5, 'type': 'track', 'uri': 'spotify:track:7mRnbqQ1kVAi6DMHAIR77b'}, {'artists': [{'external_urls': {'spotify': 'https://open.spotify.com/artist/2uFUBdaVGtyMqckSeCl0Qj'}, 'href': 'https://api.spotify.com/v1/artists/2uFUBdaVGtyMqckSeCl0Qj', 'id': '2uFUBdaVGtyMqckSeCl0Qj', 'name': 'Ludovico Einaudi', 'type': 'artist', 'uri': 'spotify:artist:2uFUBdaVGtyMqckSeCl0Qj'}], 'available_markets': ['CA'], 'disc_number': 1, 'duration_ms': 845813, 'explicit': False, 'external_urls': {'spotify': 'https://open.spotify.com/track/3fP7HlAKgECKOjAklTMT3W'}, 'href': 'https://api.spotify.com/v1/tracks/3fP7HlAKgECKOjAklTMT3W', 'id': '3fP7HlAKgECKOjAklTMT3W', 'is_local': False, 'name': 'Oltremare', 'preview_url': 'https://p.scdn.co/mp3-preview/359347fff342f4a9ba8ab3a0006591be6e95aa1c?cid=df25b8933181454dbd9afa91b8f19324', 'track_number': 6, 'type': 'track', 'uri': 'spotify:track:3fP7HlAKgECKOjAklTMT3W'}, {'artists': [{'external_urls': {'spotify': 'https://open.spotify.com/artist/2uFUBdaVGtyMqckSeCl0Qj'}, 'href': 'https://api.spotify.com/v1/artists/2uFUBdaVGtyMqckSeCl0Qj', 'id': '2uFUBdaVGtyMqckSeCl0Qj', 'name': 'Ludovico Einaudi', 'type': 'artist', 'uri': 'spotify:artist:2uFUBdaVGtyMqckSeCl0Qj'}], 'available_markets': ['CA'], 'disc_number': 1, 'duration_ms': 591320, 'explicit': False, 'external_urls': {'spotify': 'https://open.spotify.com/track/4bdcJ1lAoMRVU6m2nVZYbu'}, 'href': 'https://api.spotify.com/v1/tracks/4bdcJ1lAoMRVU6m2nVZYbu', 'id': '4bdcJ1lAoMRVU6m2nVZYbu', 'is_local': False, 'name': 'Andare', 'preview_url': 'https://p.scdn.co/mp3-preview/55e54d081e75bf9b6da71c68cf9fa39a98b47708?cid=df25b8933181454dbd9afa91b8f19324', 'track_number': 7, 'type': 'track', 'uri': 'spotify:track:4bdcJ1lAoMRVU6m2nVZYbu'}, {'artists': [{'external_urls': {'spotify': 'https://open.spotify.com/artist/2uFUBdaVGtyMqckSeCl0Qj'}, 'href': 'https://api.spotify.com/v1/artists/2uFUBdaVGtyMqckSeCl0Qj', 'id': '2uFUBdaVGtyMqckSeCl0Qj', 'name': 'Ludovico Einaudi', 'type': 'artist', 'uri': 'spotify:artist:2uFUBdaVGtyMqckSeCl0Qj'}], 'available_markets': ['CA'], 'disc_number': 1, 'duration_ms': 189026, 'explicit': False, 'external_urls': {'spotify': 'https://open.spotify.com/track/0pST53hBlBnqRZa3z0sjyk'}, 'href': 'https://api.spotify.com/v1/tracks/0pST53hBlBnqRZa3z0sjyk', 'id': '0pST53hBlBnqRZa3z0sjyk', 'is_local': False, 'name': \"L'Origine Nascosta\", 'preview_url': 'https://p.scdn.co/mp3-preview/68f665ce8e819cf787aa9fead8ea7a28c04af4c1?cid=df25b8933181454dbd9afa91b8f19324', 'track_number': 8, 'type': 'track', 'uri': 'spotify:track:0pST53hBlBnqRZa3z0sjyk'}, {'artists': [{'external_urls': {'spotify': 'https://open.spotify.com/artist/2uFUBdaVGtyMqckSeCl0Qj'}, 'href': 'https://api.spotify.com/v1/artists/2uFUBdaVGtyMqckSeCl0Qj', 'id': '2uFUBdaVGtyMqckSeCl0Qj', 'name': 'Ludovico Einaudi', 'type': 'artist', 'uri': 'spotify:artist:2uFUBdaVGtyMqckSeCl0Qj'}], 'available_markets': ['CA'], 'disc_number': 1, 'duration_ms': 460293, 'explicit': False, 'external_urls': {'spotify': 'https://open.spotify.com/track/5ngT2dlWoSGssgqROzr4Po'}, 'href': 'https://api.spotify.com/v1/tracks/5ngT2dlWoSGssgqROzr4Po', 'id': '5ngT2dlWoSGssgqROzr4Po', 'is_local': False, 'name': 'Primavera', 'preview_url': 'https://p.scdn.co/mp3-preview/6612bbc1a22d10e09b408ab82388bfbb7fa9ee57?cid=df25b8933181454dbd9afa91b8f19324', 'track_number': 9, 'type': 'track', 'uri': 'spotify:track:5ngT2dlWoSGssgqROzr4Po'}, {'artists': [{'external_urls': {'spotify': 'https://open.spotify.com/artist/2uFUBdaVGtyMqckSeCl0Qj'}, 'href': 'https://api.spotify.com/v1/artists/2uFUBdaVGtyMqckSeCl0Qj', 'id': '2uFUBdaVGtyMqckSeCl0Qj', 'name': 'Ludovico Einaudi', 'type': 'artist', 'uri': 'spotify:artist:2uFUBdaVGtyMqckSeCl0Qj'}], 'available_markets': ['CA'], 'disc_number': 2, 'duration_ms': 268746, 'explicit': False, 'external_urls': {'spotify': 'https://open.spotify.com/track/0VkJS4b4h3wI9puD188gNZ'}, 'href': 'https://api.spotify.com/v1/tracks/0VkJS4b4h3wI9puD188gNZ', 'id': '0VkJS4b4h3wI9puD188gNZ', 'is_local': False, 'name': 'La Nascita', 'preview_url': 'https://p.scdn.co/mp3-preview/5675939c5fc3624ba222e0ced9a9ba9d2b4e6720?cid=df25b8933181454dbd9afa91b8f19324', 'track_number': 1, 'type': 'track', 'uri': 'spotify:track:0VkJS4b4h3wI9puD188gNZ'}, {'artists': [{'external_urls': {'spotify': 'https://open.spotify.com/artist/2uFUBdaVGtyMqckSeCl0Qj'}, 'href': 'https://api.spotify.com/v1/artists/2uFUBdaVGtyMqckSeCl0Qj', 'id': '2uFUBdaVGtyMqckSeCl0Qj', 'name': 'Ludovico Einaudi', 'type': 'artist', 'uri': 'spotify:artist:2uFUBdaVGtyMqckSeCl0Qj'}], 'available_markets': ['CA'], 'disc_number': 2, 'duration_ms': 286093, 'explicit': False, 'external_urls': {'spotify': 'https://open.spotify.com/track/2by8EHOdtyLwAoR6WpFRcr'}, 'href': 'https://api.spotify.com/v1/tracks/2by8EHOdtyLwAoR6WpFRcr', 'id': '2by8EHOdtyLwAoR6WpFRcr', 'is_local': False, 'name': 'Le Onde', 'preview_url': 'https://p.scdn.co/mp3-preview/454e0011cf9a25a40338d2ea03168c42603fc2fb?cid=df25b8933181454dbd9afa91b8f19324', 'track_number': 2, 'type': 'track', 'uri': 'spotify:track:2by8EHOdtyLwAoR6WpFRcr'}, {'artists': [{'external_urls': {'spotify': 'https://open.spotify.com/artist/2uFUBdaVGtyMqckSeCl0Qj'}, 'href': 'https://api.spotify.com/v1/artists/2uFUBdaVGtyMqckSeCl0Qj', 'id': '2uFUBdaVGtyMqckSeCl0Qj', 'name': 'Ludovico Einaudi', 'type': 'artist', 'uri': 'spotify:artist:2uFUBdaVGtyMqckSeCl0Qj'}], 'available_markets': ['CA'], 'disc_number': 2, 'duration_ms': 465293, 'explicit': False, 'external_urls': {'spotify': 'https://open.spotify.com/track/05DS5rw99lfapEYWjbAl7V'}, 'href': 'https://api.spotify.com/v1/tracks/05DS5rw99lfapEYWjbAl7V', 'id': '05DS5rw99lfapEYWjbAl7V', 'is_local': False, 'name': 'Eden Roc', 'preview_url': 'https://p.scdn.co/mp3-preview/f220a66d829039bd21c199543d937ac9294f2d50?cid=df25b8933181454dbd9afa91b8f19324', 'track_number': 3, 'type': 'track', 'uri': 'spotify:track:05DS5rw99lfapEYWjbAl7V'}, {'artists': [{'external_urls': {'spotify': 'https://open.spotify.com/artist/2uFUBdaVGtyMqckSeCl0Qj'}, 'href': 'https://api.spotify.com/v1/artists/2uFUBdaVGtyMqckSeCl0Qj', 'id': '2uFUBdaVGtyMqckSeCl0Qj', 'name': 'Ludovico Einaudi', 'type': 'artist', 'uri': 'spotify:artist:2uFUBdaVGtyMqckSeCl0Qj'}], 'available_markets': ['CA'], 'disc_number': 2, 'duration_ms': 406133, 'explicit': False, 'external_urls': {'spotify': 'https://open.spotify.com/track/6jdCiXUHe6i7kd5gYkiFlA'}, 'href': 'https://api.spotify.com/v1/tracks/6jdCiXUHe6i7kd5gYkiFlA', 'id': '6jdCiXUHe6i7kd5gYkiFlA', 'is_local': False, 'name': 'Monday', 'preview_url': 'https://p.scdn.co/mp3-preview/a64838c68e903f793deeeac5bc20b6c4bd0c75ee?cid=df25b8933181454dbd9afa91b8f19324', 'track_number': 4, 'type': 'track', 'uri': 'spotify:track:6jdCiXUHe6i7kd5gYkiFlA'}, {'artists': [{'external_urls': {'spotify': 'https://open.spotify.com/artist/2uFUBdaVGtyMqckSeCl0Qj'}, 'href': 'https://api.spotify.com/v1/artists/2uFUBdaVGtyMqckSeCl0Qj', 'id': '2uFUBdaVGtyMqckSeCl0Qj', 'name': 'Ludovico Einaudi', 'type': 'artist', 'uri': 'spotify:artist:2uFUBdaVGtyMqckSeCl0Qj'}], 'available_markets': ['CA'], 'disc_number': 2, 'duration_ms': 680266, 'explicit': False, 'external_urls': {'spotify': 'https://open.spotify.com/track/3QIIByBHYEddcdb8cGFKtC'}, 'href': 'https://api.spotify.com/v1/tracks/3QIIByBHYEddcdb8cGFKtC', 'id': '3QIIByBHYEddcdb8cGFKtC', 'is_local': False, 'name': \"In Un'Altra Vida\", 'preview_url': 'https://p.scdn.co/mp3-preview/f9f5ae04abaccbb5f3f7796804cf49126debb777?cid=df25b8933181454dbd9afa91b8f19324', 'track_number': 5, 'type': 'track', 'uri': 'spotify:track:3QIIByBHYEddcdb8cGFKtC'}], 'limit': 50, 'next': None, 'offset': 0, 'previous': None, 'total': 14}\n"
     ]
    }
   ],
   "source": [
    "print(tracks)"
   ]
  },
  {
   "cell_type": "code",
   "execution_count": null,
   "metadata": {},
   "outputs": [],
   "source": []
  }
 ],
 "metadata": {
  "kernelspec": {
   "display_name": "Python 3",
   "language": "python",
   "name": "python3"
  },
  "language_info": {
   "codemirror_mode": {
    "name": "ipython",
    "version": 3
   },
   "file_extension": ".py",
   "mimetype": "text/x-python",
   "name": "python",
   "nbconvert_exporter": "python",
   "pygments_lexer": "ipython3",
   "version": "3.7.2"
  }
 },
 "nbformat": 4,
 "nbformat_minor": 2
}
