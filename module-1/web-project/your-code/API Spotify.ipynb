{
 "cells": [
  {
   "cell_type": "code",
   "execution_count": 11,
   "metadata": {},
   "outputs": [],
   "source": [
    "import sys\n",
    "from spotipy.oauth2 import SpotifyClientCredentials\n",
    "import spotipy\n",
    "import pprint\n",
    "import pandas as pd\n",
    "\n",
    "# Authetification and connect to the API\n",
    "client_id = 'df25b8933181454dbd9afa91b8f19324'\n",
    "client_secret = 'e0be3edf55c345d0a45144d8e81d74fa'\n",
    "    \n",
    "client_credentials_manager = SpotifyClientCredentials(client_id=client_id, client_secret=client_secret)\n",
    "sp = spotipy.Spotify(client_credentials_manager=client_credentials_manager)\n",
    "\n",
    "# Now we can look for anything we want on the APP"
   ]
  },
  {
   "cell_type": "code",
   "execution_count": 18,
   "metadata": {},
   "outputs": [
    {
     "data": {
      "text/plain": [
       "[{'external_urls': {'spotify': 'https://open.spotify.com/artist/2uFUBdaVGtyMqckSeCl0Qj'},\n",
       "  'href': 'https://api.spotify.com/v1/artists/2uFUBdaVGtyMqckSeCl0Qj',\n",
       "  'id': '2uFUBdaVGtyMqckSeCl0Qj',\n",
       "  'name': 'Ludovico Einaudi',\n",
       "  'type': 'artist',\n",
       "  'uri': 'spotify:artist:2uFUBdaVGtyMqckSeCl0Qj'}]"
      ]
     },
     "execution_count": 18,
     "metadata": {},
     "output_type": "execute_result"
    }
   ],
   "source": [
    "# In this case we are going to search for the albums from an specific artist\n",
    "# First we search the artist into spotify\n",
    "name = \"Ludovico Einaudi\"\n",
    "\n",
    "result = sp.search(name)  #search query\n",
    "result['tracks']['items'][0]['artists']"
   ]
  },
  {
   "cell_type": "code",
   "execution_count": 21,
   "metadata": {},
   "outputs": [
    {
     "data": {
      "text/plain": [
       "['spotify:album:14qrn11zrDzT1I5vS1O4tN',\n",
       " 'spotify:album:01u5oRKIW5wVrl2Ydg2EW5',\n",
       " 'spotify:album:4GRrwMMcFXZUGIPX6ltBj5',\n",
       " 'spotify:album:1m4GKm4lVNZdA4dHwcr8of',\n",
       " 'spotify:album:4oMhRri9CHpktiWmTP5gs0',\n",
       " 'spotify:album:05N5FWRDDTr9SmwVlGBNzT',\n",
       " 'spotify:album:37tZkSp1KSIfh9Jt5WF8fY',\n",
       " 'spotify:album:5jzohQ50TA36qTumAG1rEA',\n",
       " 'spotify:album:1lJ0A9ZCqs83Rrp1YIpZgT',\n",
       " 'spotify:album:5UJjk4bnmGsjWmrLaAK3uw',\n",
       " 'spotify:album:2lWPxdBwV7SyyT5HLAW42y',\n",
       " 'spotify:album:4kEUAL3ByGouOGJ8muenFg',\n",
       " 'spotify:album:5NcC2WQ4sMn8qy2fTqdcWb',\n",
       " 'spotify:album:1jTZ8sReLrUn4qCHYBHgKV',\n",
       " 'spotify:album:600RMfikMLbkoZIgS0MqiL',\n",
       " 'spotify:album:3uJ6D2WOPdjwJ0SrsH9EiG',\n",
       " 'spotify:album:62dvhzEC1RtHI7tIpE4EmL',\n",
       " 'spotify:album:6u5VYP6DGkgfHMSlK0kVv7',\n",
       " 'spotify:album:5vvLGd70sOZSZddNnIejFv',\n",
       " 'spotify:album:2mVQza8HBB1IxKufYqaQbY']"
      ]
     },
     "execution_count": 21,
     "metadata": {},
     "output_type": "execute_result"
    }
   ],
   "source": [
    "# We are going to extract the artist uri\n",
    "artist_uri = result['tracks']['items'][0]['artists'][0]['uri']\n",
    "\n",
    "# And we are going to pull all the albums\n",
    "sp_albums = sp.artist_albums(artist_uri, album_type='album')\n",
    "\n",
    "# We store the data in different lists\n",
    "album_names = []\n",
    "album_uris = []\n",
    "for i in range(len(sp_albums['items'])):\n",
    "    album_names.append(sp_albums['items'][i]['name'])\n",
    "    album_uris.append(sp_albums['items'][i]['uri'])\n",
    "    \n",
    "album_names\n",
    "album_uris"
   ]
  },
  {
   "cell_type": "code",
   "execution_count": 45,
   "metadata": {},
   "outputs": [],
   "source": [
    "tracks = sp.album_tracks('spotify:album:14qrn11zrDzT1I5vS1O4tN')\n"
   ]
  },
  {
   "cell_type": "code",
   "execution_count": 44,
   "metadata": {},
   "outputs": [
    {
     "name": "stdout",
     "output_type": "stream",
     "text": [
      "{'album': 'Ludovico Einaudi', 'track_number': [], 'id': [], 'name': [], 'uri': []}\n"
     ]
    }
   ],
   "source": [
    "# And now we can get deeper into the data and take the songs \n",
    "def album_Songs(uri):\n",
    "    album = 'spotify:album:14qrn11zrDzT1I5vS1O4tN' \n",
    "\n",
    "spotify_albums = {} #Create a dict for each song in each album\n",
    "\n",
    "spotify_albums['album'] = tracks['items'][0]['artists'][0]['name']\n",
    "spotify_albums['track_number'] = []\n",
    "spotify_albums['id'] = []\n",
    "spotify_albums['name'] = []\n",
    "spotify_albums['uri'] = []\n",
    "    \n",
    "print(spotify_albums)"
   ]
  },
  {
   "cell_type": "code",
   "execution_count": null,
   "metadata": {},
   "outputs": [],
   "source": [
    "lista = []\n",
    "for i in album_uris:\n",
    "    tracks = sp.album_tracks(i)\n",
    "    spotify_albums = {}\n",
    "    spotify_albums['album'] = tracks['items'][0]['artists'][0]['name']\n",
    "    spotify_albums['track_number'] = []\n",
    "    spotify_albums['id'] = []\n",
    "    spotify_albums['name'] = []\n",
    "    spotify_albums['uri'] = []\n",
    "    lista.append(spotify_albums)\n",
    "\n",
    "print(lista)"
   ]
  },
  {
   "cell_type": "code",
   "execution_count": 43,
   "metadata": {},
   "outputs": [
    {
     "data": {
      "text/plain": [
       "'Ludovico Einaudi'"
      ]
     },
     "execution_count": 43,
     "metadata": {},
     "output_type": "execute_result"
    }
   ],
   "source": [
    "tracks['items'][0]['artists'][0]['name']"
   ]
  },
  {
   "cell_type": "code",
   "execution_count": null,
   "metadata": {},
   "outputs": [],
   "source": []
  }
 ],
 "metadata": {
  "kernelspec": {
   "display_name": "Python 3",
   "language": "python",
   "name": "python3"
  },
  "language_info": {
   "codemirror_mode": {
    "name": "ipython",
    "version": 3
   },
   "file_extension": ".py",
   "mimetype": "text/x-python",
   "name": "python",
   "nbconvert_exporter": "python",
   "pygments_lexer": "ipython3",
   "version": "3.7.2"
  }
 },
 "nbformat": 4,
 "nbformat_minor": 2
}
