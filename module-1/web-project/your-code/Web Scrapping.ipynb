{
 "cells": [
  {
   "cell_type": "code",
   "execution_count": null,
   "metadata": {},
   "outputs": [],
   "source": []
  },
  {
   "cell_type": "code",
   "execution_count": 35,
   "metadata": {},
   "outputs": [
    {
     "name": "stdout",
     "output_type": "stream",
     "text": [
      "['https://www.elespanol.com/espana/',\n",
      " 'https://www.elespanol.com/sociedad/',\n",
      " 'https://www.elespanol.com/opinion/',\n",
      " 'https://www.elespanol.com/reportajes/',\n",
      " 'https://www.elespanol.com/mundo/',\n",
      " 'https://www.elespanol.com/economia/',\n",
      " 'https://www.elespanol.com/ciencia/',\n",
      " 'https://www.elespanol.com/cultura/',\n",
      " 'https://www.elespanol.com/deportes/',\n",
      " 'https://www.elespanol.com/social/',\n",
      " 'https://www.elespanol.com/blog_del_suscriptor/']\n"
     ]
    }
   ],
   "source": [
    "import requests\n",
    "from pprint import pprint\n",
    "from bs4 import BeautifulSoup\n",
    "import urllib.request as urllib2\n",
    "\n",
    "ELESPANOL_URL = \"https://www.elespanol.com/\"\n",
    "\n",
    "response = requests.get(ELESPANOL_URL)\n",
    "soup = BeautifulSoup(response.text, \"html.parser\")\n",
    "\n",
    "category_container = soup.find(\"ul\", {'class': 'nav__list'})\n",
    "categories = category_container.find_all(\"li\", {'class': 'list__item'})\n",
    "\n",
    "categories = [category.find('a').get('href') for category in categories]\n",
    "\n",
    "pprint(categories)"
   ]
  },
  {
   "cell_type": "code",
   "execution_count": 44,
   "metadata": {},
   "outputs": [],
   "source": [
    "websiteCode = urllib2.urlopen(\"https://9gag.com/\").read()\n",
    "soup = BeautifulSoup(websiteCode)\n",
    "\n",
    "images = []\n",
    "images = soup.find_all('video')\n",
    "\n",
    "for image in images:\n",
    "    print(image.get('poster'))\n"
   ]
  },
  {
   "cell_type": "code",
   "execution_count": null,
   "metadata": {},
   "outputs": [],
   "source": []
  }
 ],
 "metadata": {
  "kernelspec": {
   "display_name": "Python 3",
   "language": "python",
   "name": "python3"
  },
  "language_info": {
   "codemirror_mode": {
    "name": "ipython",
    "version": 3
   },
   "file_extension": ".py",
   "mimetype": "text/x-python",
   "name": "python",
   "nbconvert_exporter": "python",
   "pygments_lexer": "ipython3",
   "version": "3.7.2"
  }
 },
 "nbformat": 4,
 "nbformat_minor": 2
}
