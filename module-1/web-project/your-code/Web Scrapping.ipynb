{
 "cells": [
  {
   "cell_type": "code",
   "execution_count": 2,
   "metadata": {},
   "outputs": [
    {
     "name": "stdout",
     "output_type": "stream",
     "text": [
      "['https://www.elespanol.com/espana/',\n",
      " 'https://www.elespanol.com/sociedad/',\n",
      " 'https://www.elespanol.com/opinion/',\n",
      " 'https://www.elespanol.com/reportajes/',\n",
      " 'https://www.elespanol.com/mundo/',\n",
      " 'https://www.elespanol.com/economia/',\n",
      " 'https://www.elespanol.com/ciencia/',\n",
      " 'https://www.elespanol.com/cultura/',\n",
      " 'https://www.elespanol.com/deportes/',\n",
      " 'https://www.elespanol.com/social/',\n",
      " 'https://www.elespanol.com/blog_del_suscriptor/']\n"
     ]
    }
   ],
   "source": [
    "import requests\n",
    "from pprint import pprint\n",
    "from bs4 import BeautifulSoup\n",
    "import urllib.request as urllib2\n",
    "import webbrowser\n",
    "\n",
    "# We are going to try to get the main news from this newspaper\n",
    "ELESPANOL_URL = \"https://www.elespanol.com/\"\n",
    "\n",
    "# You need to create the petition for the website\n",
    "response = requests.get(ELESPANOL_URL)\n",
    "soup = BeautifulSoup(response.text, \"html.parser\")\n",
    "\n",
    "# Now you need to create the path that the code must follow to find what you want\n",
    "category_container = soup.find(\"ul\", {'class': 'nav__list'})\n",
    "categories = category_container.find_all(\"li\", {'class': 'list__item'})\n",
    "\n",
    "categories = [category.find('a').get('href') for category in categories]\n",
    "\n",
    "pprint(categories)"
   ]
  },
  {
   "cell_type": "code",
   "execution_count": 19,
   "metadata": {},
   "outputs": [
    {
     "name": "stdout",
     "output_type": "stream",
     "text": [
      "[<div class=\"summary-lead\">\n",
      "                    \"Hoy vamos a presentar en Bruselas lo que creo que son propuestas razonables y constructivas\", ha dicho el primer ministro británico.\n",
      "                </div>]\n"
     ]
    }
   ],
   "source": [
    "# Now we can browse any page from this newspaper: we are going to use the world(mundo) page and take the headline!!!\n",
    "world = categories[4]\n",
    "\n",
    "WORLD_URL = world\n",
    "response = requests.get(WORLD_URL)\n",
    "soup = BeautifulSoup(response.text, \"html.parser\")\n",
    "\n",
    "world_container = soup.find(\"div\", {'class': 'home-content'})\n",
    "world_news_now = world_container.find(\"div\", {'class': 'news-container'})\n",
    "\n",
    "world_news_now = [world_news_now.find(\"div\",{'class':\"summary-lead\"})]\n",
    "\n",
    "pprint(world_news_now)"
   ]
  },
  {
   "cell_type": "code",
   "execution_count": null,
   "metadata": {},
   "outputs": [],
   "source": [
    "# Así podemos tener el primer titular de la seccion que queramos!!!"
   ]
  }
 ],
 "metadata": {
  "kernelspec": {
   "display_name": "Python 3",
   "language": "python",
   "name": "python3"
  },
  "language_info": {
   "codemirror_mode": {
    "name": "ipython",
    "version": 3
   },
   "file_extension": ".py",
   "mimetype": "text/x-python",
   "name": "python",
   "nbconvert_exporter": "python",
   "pygments_lexer": "ipython3",
   "version": "3.7.2"
  }
 },
 "nbformat": 4,
 "nbformat_minor": 2
}
