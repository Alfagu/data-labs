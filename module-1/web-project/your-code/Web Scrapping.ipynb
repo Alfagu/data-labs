{
 "cells": [
  {
   "cell_type": "code",
   "execution_count": 1,
   "metadata": {},
   "outputs": [
    {
     "name": "stdout",
     "output_type": "stream",
     "text": [
      "['https://www.elespanol.com/espana/',\n",
      " 'https://www.elespanol.com/sociedad/',\n",
      " 'https://www.elespanol.com/opinion/',\n",
      " 'https://www.elespanol.com/reportajes/',\n",
      " 'https://www.elespanol.com/mundo/',\n",
      " 'https://www.elespanol.com/economia/',\n",
      " 'https://www.elespanol.com/ciencia/',\n",
      " 'https://www.elespanol.com/cultura/',\n",
      " 'https://www.elespanol.com/deportes/',\n",
      " 'https://www.elespanol.com/social/',\n",
      " 'https://www.elespanol.com/blog_del_suscriptor/']\n"
     ]
    }
   ],
   "source": [
    "import requests\n",
    "from pprint import pprint\n",
    "from bs4 import BeautifulSoup\n",
    "import urllib.request as urllib2\n",
    "import webbrowser\n",
    "\n",
    "# We are going to try to get the main news from this newspaper\n",
    "ELESPANOL_URL = \"https://www.elespanol.com/\"\n",
    "\n",
    "# You need to create the petition for the website\n",
    "response = requests.get(ELESPANOL_URL)\n",
    "soup = BeautifulSoup(response.text, \"html.parser\")\n",
    "\n",
    "# Now you need to create the path that the code must follow to find what you want\n",
    "category_container = soup.find(\"ul\", {'class': 'nav__list'})\n",
    "categories = category_container.find_all(\"li\", {'class': 'list__item'})\n",
    "\n",
    "categories = [category.find('a').get('href') for category in categories]\n",
    "\n",
    "pprint(categories)"
   ]
  },
  {
   "cell_type": "code",
   "execution_count": 5,
   "metadata": {},
   "outputs": [],
   "source": [
    "# And now we do a loop to open all the pages in the browser\n",
    "for i in categories:\n",
    "    webbrowser.open(i)"
   ]
  },
  {
   "cell_type": "code",
   "execution_count": 8,
   "metadata": {},
   "outputs": [],
   "source": [
    "# Now the project for 9gag\n",
    "websiteCode = urllib2.urlopen(\"https://9gag.com/\").read()\n",
    "soup = BeautifulSoup(websiteCode)\n",
    "\n",
    "images = []\n",
    "images = soup.find_all('img')\n"
   ]
  },
  {
   "cell_type": "code",
   "execution_count": 7,
   "metadata": {},
   "outputs": [],
   "source": [
    "for image in images:\n",
    "    image.get('src')"
   ]
  },
  {
   "cell_type": "code",
   "execution_count": null,
   "metadata": {},
   "outputs": [],
   "source": []
  }
 ],
 "metadata": {
  "kernelspec": {
   "display_name": "Python 3",
   "language": "python",
   "name": "python3"
  },
  "language_info": {
   "codemirror_mode": {
    "name": "ipython",
    "version": 3
   },
   "file_extension": ".py",
   "mimetype": "text/x-python",
   "name": "python",
   "nbconvert_exporter": "python",
   "pygments_lexer": "ipython3",
   "version": "3.7.2"
  }
 },
 "nbformat": 4,
 "nbformat_minor": 2
}
