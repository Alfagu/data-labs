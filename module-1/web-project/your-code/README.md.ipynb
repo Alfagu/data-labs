{
 "cells": [
  {
   "cell_type": "markdown",
   "metadata": {},
   "source": [
    "# WEB API AND DATA SCRAPING PROJECT :octocat:\n",
    "\n",
    "## Overview:\n",
    "\n",
    "In this project we are going to use what we learn on the past learnings for Web and API scraping.\n",
    "So to do so we are going to perform the basis of what we learn and go from there.\n",
    "\n",
    "## Process:\n",
    "\n",
    "All the project is going to be created on Jupyter Notebook.\n",
    "\n",
    "### Spotify API\n",
    "- First Step: get public API I'm going to use Spotify API. We need to accesss to the credentials that consist of an API key, API secret key. They can be found by viewing the details of your app and clicking on the Keys.\n",
    "\n",
    "here you can access to the api: https://developer.spotify.com/\n",
    "\n",
    "- Once we have create the connection between your code and the Spotify you can look for anything you need.\n",
    "\n",
    "### WEB SCRAPING \n",
    "\n",
    "- First you need to look for and eassy website to scapped from we are going to use the newspaper website (El Español) https://www.elespanol.com/\n",
    "\n",
    "-\n"
   ]
  },
  {
   "cell_type": "code",
   "execution_count": null,
   "metadata": {},
   "outputs": [],
   "source": []
  }
 ],
 "metadata": {
  "kernelspec": {
   "display_name": "Python 3",
   "language": "python",
   "name": "python3"
  },
  "language_info": {
   "codemirror_mode": {
    "name": "ipython",
    "version": 3
   },
   "file_extension": ".py",
   "mimetype": "text/x-python",
   "name": "python",
   "nbconvert_exporter": "python",
   "pygments_lexer": "ipython3",
   "version": "3.7.2"
  }
 },
 "nbformat": 4,
 "nbformat_minor": 2
}
