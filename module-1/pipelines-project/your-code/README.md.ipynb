{
 "cells": [
  {
   "cell_type": "markdown",
   "metadata": {},
   "source": [
    "# Project Web Data Pipeline\n",
    "\n",
    "The project is to practice the function for cleaning, importing, calling and analysis that we have learn on the previous days.\n",
    "This is going to be our first project deliver.\n",
    "\n",
    "## Getting Started\n",
    "\n",
    "These instructions will get you a copy of the project up and running on your local machine for development and testing purposes. See deployment for notes on how to deploy the project on a live system.\n",
    "\n",
    "### Prerequisites\n",
    "\n",
    "You must have install jupyter on your terminal\n",
    "\n",
    "```\n",
    "pip3 install jupyter\n",
    "```\n",
    "\n",
    "## Running the tests\n",
    "\n",
    "Explain how to run the automated tests for this system\n",
    "\n",
    "### Break down into end to end tests\n",
    "\n",
    "Explain what these tests test and why\n",
    "\n",
    "```\n",
    "Give an example\n",
    "```\n",
    "\n",
    "### And coding style tests\n",
    "\n",
    "Explain what these tests test and why\n",
    "\n",
    "```\n",
    "Give an example\n",
    "```\n",
    "\n",
    "## Deployment\n",
    "\n",
    "Add additional notes about how to deploy this on a live system\n",
    "\n",
    "## Built With\n",
    "\n",
    "* [Dropwizard](http://www.dropwizard.io/1.0.2/docs/) - The web framework used\n",
    "* [Maven](https://maven.apache.org/) - Dependency Management\n",
    "* [ROME](https://rometools.github.io/rome/) - Used to generate RSS Feeds\n",
    "\n",
    "\n",
    "## Authors\n",
    "\n",
    "* **Alfonso Aguado** - *Initial work* - [Alfonso Aguado](https://github.com/Alfagu)\n",
    "\n",
    "## Acknowledgments\n",
    "\n",
    "* Hat tip to anyone whose code was used\n",
    "* Inspiration\n",
    "* etc\n"
   ]
  },
  {
   "cell_type": "markdown",
   "metadata": {},
   "source": []
  }
 ],
 "metadata": {
  "kernelspec": {
   "display_name": "Python 3",
   "language": "python",
   "name": "python3"
  },
  "language_info": {
   "codemirror_mode": {
    "name": "ipython",
    "version": 3
   },
   "file_extension": ".py",
   "mimetype": "text/x-python",
   "name": "python",
   "nbconvert_exporter": "python",
   "pygments_lexer": "ipython3",
   "version": "3.7.2"
  }
 },
 "nbformat": 4,
 "nbformat_minor": 2
}
