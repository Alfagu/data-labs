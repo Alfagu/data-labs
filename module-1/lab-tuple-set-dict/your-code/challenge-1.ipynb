{
 "cells": [
  {
   "cell_type": "markdown",
   "metadata": {},
   "source": [
    "## Challenge 1: Tuples\n",
    "\n",
    "#### Do you know you can create tuples with only one element?\n",
    "\n",
    "**In the cell below, define a variable `tup` with a single element `\"I\"`.**\n",
    "\n",
    "*Hint: you need to add a comma (`,`) after the single element.*"
   ]
  },
  {
   "cell_type": "code",
   "execution_count": 6,
   "metadata": {},
   "outputs": [
    {
     "data": {
      "text/plain": [
       "('I',)"
      ]
     },
     "execution_count": 6,
     "metadata": {},
     "output_type": "execute_result"
    }
   ],
   "source": [
    "# Your code here\n",
    "tup = ('I',)"
   ]
  },
  {
   "cell_type": "markdown",
   "metadata": {},
   "source": [
    "#### Print the type of `tup`. \n",
    "\n",
    "Make sure its type is correct (i.e. *tuple* instead of *str*)."
   ]
  },
  {
   "cell_type": "code",
   "execution_count": 13,
   "metadata": {},
   "outputs": [
    {
     "data": {
      "text/plain": [
       "('I',)"
      ]
     },
     "execution_count": 13,
     "metadata": {},
     "output_type": "execute_result"
    }
   ],
   "source": [
    "# Your code here\n",
    "tuple(tup)"
   ]
  },
  {
   "cell_type": "markdown",
   "metadata": {},
   "source": [
    "#### Now try to append the following elements to `tup`. \n",
    "\n",
    "Are you able to do it? Explain.\n",
    "\n",
    "```\n",
    "\"r\", \"o\", \"n\", \"h\", \"a\", \"c\", \"k',\n",
    "```"
   ]
  },
  {
   "cell_type": "code",
   "execution_count": 16,
   "metadata": {},
   "outputs": [
    {
     "name": "stdout",
     "output_type": "stream",
     "text": [
      "('I', 'r', 'o', 'n', 'h', 'a', 'c', 'k')\n"
     ]
    }
   ],
   "source": [
    "# Your code here\n",
    "tup = ('r', 'o', 'n', 'h', 'a', 'c', 'k',)\n",
    "tup_resto = 'I'\n",
    "new_tup = tup + (tup_resto,)\n",
    "# Your explanation here\n",
    "#Tuples are immutable you can't add new values but you can a sum."
   ]
  },
  {
   "cell_type": "markdown",
   "metadata": {},
   "source": [
    "#### How about re-assign a new value to an existing tuple?\n",
    "\n",
    "Re-assign the following elements to `tup`. Are you able to do it? Explain.\n",
    "\n",
    "```\n",
    "\"I\", \"r\", \"o\", \"n\", \"h\", \"a\", \"c\", \"k\"\n",
    "```"
   ]
  },
  {
   "cell_type": "code",
<<<<<<< HEAD
   "execution_count": 52,
=======
   "execution_count": 20,
>>>>>>> 4832f8fa9a0af7d3e4298af494e41bdad8c5071f
   "metadata": {},
   "outputs": [
    {
     "data": {
      "text/plain": [
       "('I', 'r', 'o', 'n', 'h', 'a', 'c', 'k')"
      ]
     },
     "execution_count": 52,
     "metadata": {},
     "output_type": "execute_result"
    }
   ],
   "source": [
    "# Your code here\n",
<<<<<<< HEAD
    "tup = (\"I\", \"r\", \"o\", \"n\", \"h\", \"a\", \"c\", \"k\") \n",
    "tup\n",
    "# Your explanation here\n",
    "# You can't re-assign elements on tuple is unmutable"
=======
    "tup = tuple(\"Ironhack\")\n",
    "# Your explanation here\n",
    "# Tuples are immtable you can't change there value"
>>>>>>> 4832f8fa9a0af7d3e4298af494e41bdad8c5071f
   ]
  },
  {
   "cell_type": "markdown",
   "metadata": {},
   "source": [
    "#### Split `tup` into `tup1` and `tup2` with 4 elements in each. \n",
    "\n",
    "`tup1` should be `(\"I\", \"r\", \"o\", \"n\")` and `tup2` should be `(\"h\", \"a\", \"c\", \"k\")`.\n",
    "\n",
    "*Hint: use positive index numbers for `tup1` assignment and use negative index numbers for `tup2` assignment. Positive index numbers count from the beginning whereas negative index numbers count from the end of the sequence.*\n",
    "\n",
    "Also print `tup1` and `tup2`."
   ]
  },
  {
   "cell_type": "code",
<<<<<<< HEAD
   "execution_count": 53,
=======
   "execution_count": 21,
>>>>>>> 4832f8fa9a0af7d3e4298af494e41bdad8c5071f
   "metadata": {},
   "outputs": [
    {
     "name": "stdout",
     "output_type": "stream",
     "text": [
<<<<<<< HEAD
      "('I', 'r', 'o', 'n')\n",
      "('h', 'a', 'c', 'k')\n"
=======
      "('I', 'r', 'o', 'n') ('h', 'a', 'c', 'k')\n"
>>>>>>> 4832f8fa9a0af7d3e4298af494e41bdad8c5071f
     ]
    }
   ],
   "source": [
    "# Your code here\n",
<<<<<<< HEAD
    "tup1 = tup[0:4]\n",
    "tup2 = tup[-4:8]\n",
    "\n",
    "print(tup1)\n",
    "print(tup2)"
=======
    "tup = tuple(\"Ironhack\")\n",
    "\n",
    "tup1 = (tup[:4])\n",
    "tup2 = (tup[4:8])\n",
    "\n",
    "print(tup1, tup2)"
>>>>>>> 4832f8fa9a0af7d3e4298af494e41bdad8c5071f
   ]
  },
  {
   "cell_type": "markdown",
   "metadata": {},
   "source": [
    "#### Add `tup1` and `tup2` into `tup3` using the `+` operator.\n",
    "\n",
    "Then print `tup3` and check if `tup3` equals to `tup`."
   ]
  },
  {
   "cell_type": "code",
<<<<<<< HEAD
   "execution_count": 54,
=======
   "execution_count": 38,
>>>>>>> 4832f8fa9a0af7d3e4298af494e41bdad8c5071f
   "metadata": {},
   "outputs": [
    {
     "name": "stdout",
     "output_type": "stream",
     "text": [
      "('I', 'r', 'o', 'n', 'h', 'a', 'c', 'k')\n"
     ]
    },
    {
     "data": {
      "text/plain": [
       "True"
      ]
     },
<<<<<<< HEAD
     "execution_count": 54,
=======
     "execution_count": 38,
>>>>>>> 4832f8fa9a0af7d3e4298af494e41bdad8c5071f
     "metadata": {},
     "output_type": "execute_result"
    }
   ],
   "source": [
    "# Your code here\n",
    "tup3 = tup1 + tup2\n",
    "print(tup3)\n",
<<<<<<< HEAD
    "tup == tup3"
=======
    "\n",
    "tup3 == tup"
>>>>>>> 4832f8fa9a0af7d3e4298af494e41bdad8c5071f
   ]
  },
  {
   "cell_type": "markdown",
   "metadata": {},
   "source": [
    "#### Count the number of elements in `tup1` and `tup2`. Then add the two counts together and check if the sum is the same as the number of elements in `tup3`"
   ]
  },
  {
   "cell_type": "code",
<<<<<<< HEAD
   "execution_count": 55,
=======
   "execution_count": 53,
>>>>>>> 4832f8fa9a0af7d3e4298af494e41bdad8c5071f
   "metadata": {},
   "outputs": [
    {
     "data": {
      "text/plain": [
<<<<<<< HEAD
       "False"
      ]
     },
     "execution_count": 55,
=======
       "True"
      ]
     },
     "execution_count": 53,
>>>>>>> 4832f8fa9a0af7d3e4298af494e41bdad8c5071f
     "metadata": {},
     "output_type": "execute_result"
    }
   ],
   "source": [
    "# Your code here\n",
<<<<<<< HEAD
    "len(tup1) + len(tup2) == tup3"
=======
    "a = len(tup1)\n",
    "b = len(tup2)\n",
    "c = len(tup3)\n",
    "\n",
    "tup4 = a + b\n",
    "\n",
    "tup4 == c"
>>>>>>> 4832f8fa9a0af7d3e4298af494e41bdad8c5071f
   ]
  },
  {
   "cell_type": "markdown",
   "metadata": {},
   "source": [
    "#### What is the index number of `\"h\"` in `tup3`?"
   ]
  },
  {
   "cell_type": "code",
<<<<<<< HEAD
   "execution_count": 62,
=======
   "execution_count": 60,
>>>>>>> 4832f8fa9a0af7d3e4298af494e41bdad8c5071f
   "metadata": {},
   "outputs": [
    {
     "data": {
      "text/plain": [
       "4"
      ]
     },
<<<<<<< HEAD
     "execution_count": 62,
=======
     "execution_count": 60,
>>>>>>> 4832f8fa9a0af7d3e4298af494e41bdad8c5071f
     "metadata": {},
     "output_type": "execute_result"
    }
   ],
   "source": [
    "# Your code here\n",
    "tup3.index('h')"
   ]
  },
  {
   "cell_type": "markdown",
   "metadata": {},
   "source": [
    "#### Now, use a FOR loop to check whether each letter in the following list is present in `tup3`:\n",
    "\n",
    "```\n",
    "letters = [\"a\", \"b\", \"c\", \"d\", \"e\"]\n",
    "```\n",
    "\n",
    "For each letter you check, print `True` if it is present in `tup3` otherwise print `False`.\n",
    "\n",
    "*Hint: you only need to loop `letters`. You don't need to loop `tup3` because there is a Python operator `in` you can use. See [reference](https://stackoverflow.com/questions/17920147/how-to-check-if-a-tuple-contains-an-element-in-python).*"
   ]
  },
  {
   "cell_type": "code",
<<<<<<< HEAD
   "execution_count": 114,
=======
   "execution_count": 116,
>>>>>>> 4832f8fa9a0af7d3e4298af494e41bdad8c5071f
   "metadata": {},
   "outputs": [
    {
     "name": "stdout",
     "output_type": "stream",
     "text": [
      "False\n",
      "False\n",
      "False\n",
      "False\n",
      "False\n",
      "True\n",
      "False\n",
      "True\n",
      "False\n",
      "False\n"
     ]
    }
   ],
   "source": [
    "# Your code here\n",
    "letters = [\"a\", \"b\", \"c\", \"d\", \"e\"]\n",
<<<<<<< HEAD
    "\n",
    "for letters in tup3:\n",
    "    if letters is \"a\":\n",
    "        print(\"True\")\n",
    "    if letters is \"b\":\n",
    "        print(\"True\")\n",
    "    if letters is \"c\":\n",
    "        print(\"True\")\n",
    "    if letters is \"d\":\n",
    "        print(\"True\")\n",
    "    if letters is \"e\":\n",
=======
    "for i in tup3:\n",
    "    if i in \"a\":\n",
    "        print(\"True\")\n",
    "    if i in \"b\":\n",
    "        print(\"True\")\n",
    "    if i in \"c\" :\n",
    "        print(\"True\")\n",
    "    if i in \"d\":\n",
    "        print(\"True\")\n",
    "    if i in \"e\":\n",
>>>>>>> 4832f8fa9a0af7d3e4298af494e41bdad8c5071f
    "        print(\"True\")\n",
    "    else:\n",
    "        print(\"False\")"
   ]
  },
  {
   "cell_type": "markdown",
   "metadata": {},
   "source": [
    "#### How many times does each letter in `letters` appear in `tup3`?\n",
    "\n",
    "Print out the number of occurrence of each letter."
   ]
  },
  {
   "cell_type": "code",
<<<<<<< HEAD
   "execution_count": 122,
   "metadata": {},
   "outputs": [
    {
     "data": {
      "text/plain": [
       "{'I': 0, 'r': 0, 'o': 0, 'n': 0, 'h': 0, 'a': 1, 'c': 1, 'k': 0}"
      ]
     },
     "execution_count": 122,
     "metadata": {},
     "output_type": "execute_result"
=======
   "execution_count": 119,
   "metadata": {},
   "outputs": [
    {
     "name": "stdout",
     "output_type": "stream",
     "text": [
      "I 0\n",
      "r 0\n",
      "o 0\n",
      "n 0\n",
      "h 0\n",
      "a 1\n",
      "c 1\n",
      "k 0\n"
     ]
>>>>>>> 4832f8fa9a0af7d3e4298af494e41bdad8c5071f
    }
   ],
   "source": [
    "# Your code here\n",
<<<<<<< HEAD
    "letters = [\"a\", \"b\", \"c\", \"d\", \"e\"]\n",
    "count_str = {letra: 0 for letra in tup3}\n",
    "\n",
    "for letra in letters: \n",
    "    if letra in count_str.keys(): \n",
    "        count_str[letra] += 1\n",
    "        \n",
    "count_str"
=======
    "for letters in tup3:\n",
    "    if letters in(\"a\", \"b\", \"c\", \"d\", \"e\"):\n",
    "        print(letters, tup3.count(letters))\n",
    "    else:\n",
    "        print(letters, 0)"
>>>>>>> 4832f8fa9a0af7d3e4298af494e41bdad8c5071f
   ]
  },
  {
   "cell_type": "code",
   "execution_count": null,
   "metadata": {},
   "outputs": [],
   "source": []
  },
  {
   "cell_type": "code",
   "execution_count": null,
   "metadata": {},
   "outputs": [],
   "source": []
  }
 ],
 "metadata": {
  "kernelspec": {
   "display_name": "Python 3",
   "language": "python",
   "name": "python3"
  },
  "language_info": {
   "codemirror_mode": {
    "name": "ipython",
    "version": 3
   },
   "file_extension": ".py",
   "mimetype": "text/x-python",
   "name": "python",
   "nbconvert_exporter": "python",
   "pygments_lexer": "ipython3",
   "version": "3.7.2"
  }
 },
 "nbformat": 4,
 "nbformat_minor": 2
}
