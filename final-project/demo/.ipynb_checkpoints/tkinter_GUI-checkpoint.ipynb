{
 "cells": [
  {
   "cell_type": "code",
   "execution_count": 3,
   "metadata": {},
   "outputs": [],
   "source": [
    "#!/usr/bin/env python\n",
    "# -*- coding: utf-8 -*-\n",
    "\n",
    "from tkinter import *\n",
    "from tkinter import ttk\n",
    "\n",
    "# Crea una clase Python para definir el interfaz de usuario de\n",
    "# la aplicación. Cuando se cree un objeto del tipo 'Aplicacion'\n",
    "# se ejecutará automáticamente el método __init__() qué \n",
    "# construye y muestra la ventana con todos sus widgets: \n",
    "\n",
    "class Aplicacion():\n",
    "    def __init__(self):\n",
    "        raiz = Tk()\n",
    "        raiz.geometry('300x200')\n",
    "        raiz.configure(bg = 'grey')\n",
    "        raiz.title('Aplicación')\n",
    "        ttk.Button(raiz, text='Salir', \n",
    "                   command=raiz.destroy).pack(side=BOTTOM)\n",
    "        raiz.mainloop()\n",
    "\n",
    "# Define la función main() que es en realidad la que indica \n",
    "# el comienzo del programa. Dentro de ella se crea el objeto \n",
    "# aplicación 'mi_app' basado en la clase 'Aplicación':\n",
    "\n",
    "def main():\n",
    "    mi_app = Aplicacion()\n",
    "    return 0\n",
    "\n",
    "# Mediante el atributo __name__ tenemos acceso al nombre de un\n",
    "# un módulo. Python utiliza este atributo cuando se ejecuta\n",
    "# un programa para conocer si el módulo es ejecutado de forma\n",
    "# independiente (en ese caso __name__ = '__main__') o es \n",
    "# importado:\n",
    "\n",
    "if __name__ == '__main__':\n",
    "    main()"
   ]
  },
  {
   "cell_type": "code",
   "execution_count": null,
   "metadata": {},
   "outputs": [],
   "source": []
  }
 ],
 "metadata": {
  "kernelspec": {
   "display_name": "Python 3",
   "language": "python",
   "name": "python3"
  },
  "language_info": {
   "codemirror_mode": {
    "name": "ipython",
    "version": 3
   },
   "file_extension": ".py",
   "mimetype": "text/x-python",
   "name": "python",
   "nbconvert_exporter": "python",
   "pygments_lexer": "ipython3",
   "version": "3.7.2"
  }
 },
 "nbformat": 4,
 "nbformat_minor": 2
}
